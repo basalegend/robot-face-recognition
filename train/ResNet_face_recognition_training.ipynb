{
 "cells": [
  {
   "cell_type": "code",
   "execution_count": 16,
   "id": "30c25a32",
   "metadata": {
    "ExecuteTime": {
     "end_time": "2025-05-06T13:54:05.997972Z",
     "start_time": "2025-05-06T13:54:05.738333Z"
    },
    "code_folding": [
     4
    ],
    "collapsed": true,
    "jupyter": {
     "outputs_hidden": true,
     "source_hidden": true
    }
   },
   "outputs": [
    {
     "name": "stdout",
     "output_type": "stream",
     "text": [
      "\n",
      "Обрабатываю папку: ./for_recognize/dataset/Albert Einstein\n",
      "Найдено 10 изображений\n",
      "Переименовано: Albert Einstein_01.png -> Albert Einstein_01.png\n",
      "Переименовано: Albert Einstein_02.png -> Albert Einstein_02.png\n",
      "Переименовано: Albert Einstein_03.png -> Albert Einstein_03.png\n",
      "Переименовано: Albert Einstein_04.png -> Albert Einstein_04.png\n",
      "Переименовано: Albert Einstein_05.png -> Albert Einstein_05.png\n",
      "Переименовано: Albert Einstein_06.png -> Albert Einstein_06.png\n",
      "Переименовано: Albert Einstein_07.png -> Albert Einstein_07.png\n",
      "Переименовано: Albert Einstein_08.png -> Albert Einstein_08.png\n",
      "Переименовано: Albert Einstein_09.png -> Albert Einstein_09.png\n",
      "Переименовано: Albert Einstein_10.png -> Albert Einstein_10.png\n",
      "\n",
      "Обрабатываю папку: ./for_recognize/dataset/Alla Pugacheva\n",
      "Найдено 10 изображений\n",
      "Переименовано: Alla Pugacheva_01.png -> Alla Pugacheva_01.png\n",
      "Переименовано: Alla Pugacheva_02.png -> Alla Pugacheva_02.png\n",
      "Переименовано: Alla Pugacheva_03.png -> Alla Pugacheva_03.png\n",
      "Переименовано: Alla Pugacheva_04.png -> Alla Pugacheva_04.png\n",
      "Переименовано: Alla Pugacheva_05.png -> Alla Pugacheva_05.png\n",
      "Переименовано: Alla Pugacheva_06.png -> Alla Pugacheva_06.png\n",
      "Переименовано: Alla Pugacheva_07.png -> Alla Pugacheva_07.png\n",
      "Переименовано: Alla Pugacheva_08.png -> Alla Pugacheva_08.png\n",
      "Переименовано: Alla Pugacheva_09.png -> Alla Pugacheva_09.png\n",
      "Переименовано: Alla Pugacheva_10.png -> Alla Pugacheva_10.png\n",
      "\n",
      "Обрабатываю папку: ./for_recognize/dataset/Angelina Jolie\n",
      "Найдено 12 изображений\n",
      "Переименовано: Angelina Jolie_01.png -> Angelina Jolie_01.png\n",
      "Переименовано: Angelina Jolie_02.png -> Angelina Jolie_02.png\n",
      "Переименовано: Angelina Jolie_03.png -> Angelina Jolie_03.png\n",
      "Переименовано: Angelina Jolie_04.png -> Angelina Jolie_04.png\n",
      "Переименовано: Angelina Jolie_05.png -> Angelina Jolie_05.png\n",
      "Переименовано: Angelina Jolie_06.png -> Angelina Jolie_06.png\n",
      "Переименовано: Angelina Jolie_07.png -> Angelina Jolie_07.png\n",
      "Переименовано: Angelina Jolie_08.png -> Angelina Jolie_08.png\n",
      "Переименовано: Angelina Jolie_09.png -> Angelina Jolie_09.png\n",
      "Переименовано: Angelina Jolie_10.png -> Angelina Jolie_10.png\n",
      "Переименовано: Angelina Jolie_11.png -> Angelina Jolie_11.png\n",
      "Переименовано: Angelina Jolie_12.png -> Angelina Jolie_12.png\n",
      "\n",
      "Обрабатываю папку: ./for_recognize/dataset/Arnold Schwarzenegger\n",
      "Найдено 10 изображений\n",
      "Переименовано: Arnold Schwarzenegger_01.png -> Arnold Schwarzenegger_01.png\n",
      "Переименовано: Arnold Schwarzenegger_02.png -> Arnold Schwarzenegger_02.png\n",
      "Переименовано: Arnold Schwarzenegger_03.png -> Arnold Schwarzenegger_03.png\n",
      "Переименовано: Arnold Schwarzenegger_04.png -> Arnold Schwarzenegger_04.png\n",
      "Переименовано: Arnold Schwarzenegger_05.png -> Arnold Schwarzenegger_05.png\n",
      "Переименовано: Arnold Schwarzenegger_06.png -> Arnold Schwarzenegger_06.png\n",
      "Переименовано: Arnold Schwarzenegger_07.png -> Arnold Schwarzenegger_07.png\n",
      "Переименовано: Arnold Schwarzenegger_08.png -> Arnold Schwarzenegger_08.png\n",
      "Переименовано: Arnold Schwarzenegger_09.png -> Arnold Schwarzenegger_09.png\n",
      "Переименовано: Arnold Schwarzenegger_10.png -> Arnold Schwarzenegger_10.png\n",
      "\n",
      "Обрабатываю папку: ./for_recognize/dataset/Boris Yeltsin\n",
      "Найдено 10 изображений\n",
      "Переименовано: Boris Yeltsin_01.png -> Boris Yeltsin_01.png\n",
      "Переименовано: Boris Yeltsin_02.png -> Boris Yeltsin_02.png\n",
      "Переименовано: Boris Yeltsin_03.png -> Boris Yeltsin_03.png\n",
      "Переименовано: Boris Yeltsin_04.png -> Boris Yeltsin_04.png\n",
      "Переименовано: Boris Yeltsin_05.png -> Boris Yeltsin_05.png\n",
      "Переименовано: Boris Yeltsin_06.png -> Boris Yeltsin_06.png\n",
      "Переименовано: Boris Yeltsin_07.png -> Boris Yeltsin_07.png\n",
      "Переименовано: Boris Yeltsin_08.png -> Boris Yeltsin_08.png\n",
      "Переименовано: Boris Yeltsin_09.png -> Boris Yeltsin_09.png\n",
      "Переименовано: Boris Yeltsin_10.png -> Boris Yeltsin_10.png\n",
      "\n",
      "Обрабатываю папку: ./for_recognize/dataset/Brad Pitt\n",
      "Найдено 10 изображений\n",
      "Переименовано: Brad Pitt_01.png -> Brad Pitt_01.png\n",
      "Переименовано: Brad Pitt_02.png -> Brad Pitt_02.png\n",
      "Переименовано: Brad Pitt_03.png -> Brad Pitt_03.png\n",
      "Переименовано: Brad Pitt_04.png -> Brad Pitt_04.png\n",
      "Переименовано: Brad Pitt_05.png -> Brad Pitt_05.png\n",
      "Переименовано: Brad Pitt_06.png -> Brad Pitt_06.png\n",
      "Переименовано: Brad Pitt_07.png -> Brad Pitt_07.png\n",
      "Переименовано: Brad Pitt_08.png -> Brad Pitt_08.png\n",
      "Переименовано: Brad Pitt_09.png -> Brad Pitt_09.png\n",
      "Переименовано: Brad Pitt_10.png -> Brad Pitt_10.png\n",
      "\n",
      "Обрабатываю папку: ./for_recognize/dataset/Britney Spears\n",
      "Найдено 13 изображений\n",
      "Переименовано: Britney Spears_01.png -> Britney Spears_01.png\n",
      "Переименовано: Britney Spears_02.png -> Britney Spears_02.png\n",
      "Переименовано: Britney Spears_03.png -> Britney Spears_03.png\n",
      "Переименовано: Britney Spears_04.png -> Britney Spears_04.png\n",
      "Переименовано: Britney Spears_05.png -> Britney Spears_05.png\n",
      "Переименовано: Britney Spears_06.png -> Britney Spears_06.png\n",
      "Переименовано: Britney Spears_07.png -> Britney Spears_07.png\n",
      "Переименовано: Britney Spears_08.png -> Britney Spears_08.png\n",
      "Переименовано: Britney Spears_09.png -> Britney Spears_09.png\n",
      "Переименовано: Britney Spears_10.png -> Britney Spears_10.png\n",
      "Переименовано: Britney Spears_11.png -> Britney Spears_11.png\n",
      "Переименовано: Britney Spears_12.png -> Britney Spears_12.png\n",
      "Переименовано: Britney Spears_13.png -> Britney Spears_13.png\n",
      "\n",
      "Обрабатываю папку: ./for_recognize/dataset/Demi Moore\n",
      "Найдено 12 изображений\n",
      "Переименовано: Demi Moore_01.png -> Demi Moore_01.png\n",
      "Переименовано: Demi Moore_02.png -> Demi Moore_02.png\n",
      "Переименовано: Demi Moore_03.png -> Demi Moore_03.png\n",
      "Переименовано: Demi Moore_04.png -> Demi Moore_04.png\n",
      "Переименовано: Demi Moore_05.png -> Demi Moore_05.png\n",
      "Переименовано: Demi Moore_06.png -> Demi Moore_06.png\n",
      "Переименовано: Demi Moore_07.png -> Demi Moore_07.png\n",
      "Переименовано: Demi Moore_08.png -> Demi Moore_08.png\n",
      "Переименовано: Demi Moore_09.png -> Demi Moore_09.png\n",
      "Переименовано: Demi Moore_10.png -> Demi Moore_10.png\n",
      "Переименовано: Demi Moore_11.png -> Demi Moore_11.png\n",
      "Переименовано: Demi Moore_12.png -> Demi Moore_12.png\n",
      "\n",
      "Обрабатываю папку: ./for_recognize/dataset/Donald Trump\n",
      "Найдено 10 изображений\n",
      "Переименовано: Donald Trump_01.png -> Donald Trump_01.png\n",
      "Переименовано: Donald Trump_02.png -> Donald Trump_02.png\n",
      "Переименовано: Donald Trump_03.png -> Donald Trump_03.png\n",
      "Переименовано: Donald Trump_04.png -> Donald Trump_04.png\n",
      "Переименовано: Donald Trump_05.png -> Donald Trump_05.png\n",
      "Переименовано: Donald Trump_06.png -> Donald Trump_06.png\n",
      "Переименовано: Donald Trump_07.png -> Donald Trump_07.png\n",
      "Переименовано: Donald Trump_08.png -> Donald Trump_08.png\n",
      "Переименовано: Donald Trump_09.png -> Donald Trump_09.png\n",
      "Переименовано: Donald Trump_10.png -> Donald Trump_10.png\n",
      "\n",
      "Обрабатываю папку: ./for_recognize/dataset/Elon Musk\n",
      "Найдено 10 изображений\n",
      "Переименовано: Elon Musk_01.png -> Elon Musk_01.png\n",
      "Переименовано: Elon Musk_02.png -> Elon Musk_02.png\n",
      "Переименовано: Elon Musk_03.png -> Elon Musk_03.png\n",
      "Переименовано: Elon Musk_04.png -> Elon Musk_04.png\n",
      "Переименовано: Elon Musk_05.png -> Elon Musk_05.png\n",
      "Переименовано: Elon Musk_06.png -> Elon Musk_06.png\n",
      "Переименовано: Elon Musk_07.png -> Elon Musk_07.png\n",
      "Переименовано: Elon Musk_08.png -> Elon Musk_08.png\n",
      "Переименовано: Elon Musk_09.png -> Elon Musk_09.png\n",
      "Переименовано: Elon Musk_10.png -> Elon Musk_10.png\n",
      "\n",
      "Обрабатываю папку: ./for_recognize/dataset/Eminem\n",
      "Найдено 12 изображений\n",
      "Переименовано: Eminem_01.png -> Eminem_01.png\n",
      "Переименовано: Eminem_02.png -> Eminem_02.png\n",
      "Переименовано: Eminem_03.png -> Eminem_03.png\n",
      "Переименовано: Eminem_04.png -> Eminem_04.png\n",
      "Переименовано: Eminem_05.png -> Eminem_05.png\n",
      "Переименовано: Eminem_06.png -> Eminem_06.png\n",
      "Переименовано: Eminem_07.png -> Eminem_07.png\n",
      "Переименовано: Eminem_08.png -> Eminem_08.png\n",
      "Переименовано: Eminem_09.png -> Eminem_09.png\n",
      "Переименовано: Eminem_10.png -> Eminem_10.png\n",
      "Переименовано: Eminem_11.png -> Eminem_11.png\n",
      "Переименовано: Eminem_12.png -> Eminem_12.png\n",
      "\n",
      "Обрабатываю папку: ./for_recognize/dataset/Freddie Mercury\n",
      "Найдено 10 изображений\n",
      "Переименовано: Freddie Mercury_01.png -> Freddie Mercury_01.png\n",
      "Переименовано: Freddie Mercury_02.png -> Freddie Mercury_02.png\n",
      "Переименовано: Freddie Mercury_03.png -> Freddie Mercury_03.png\n",
      "Переименовано: Freddie Mercury_04.png -> Freddie Mercury_04.png\n",
      "Переименовано: Freddie Mercury_05.png -> Freddie Mercury_05.png\n",
      "Переименовано: Freddie Mercury_06.png -> Freddie Mercury_06.png\n",
      "Переименовано: Freddie Mercury_07.png -> Freddie Mercury_07.png\n",
      "Переименовано: Freddie Mercury_08.png -> Freddie Mercury_08.png\n",
      "Переименовано: Freddie Mercury_09.png -> Freddie Mercury_09.png\n",
      "Переименовано: Freddie Mercury_10.png -> Freddie Mercury_10.png\n",
      "\n",
      "Обрабатываю папку: ./for_recognize/dataset/Guy Ritchie\n",
      "Найдено 11 изображений\n",
      "Переименовано: Guy Ritchie_01.png -> Guy Ritchie_01.png\n",
      "Переименовано: Guy Ritchie_02.png -> Guy Ritchie_02.png\n",
      "Переименовано: Guy Ritchie_03.png -> Guy Ritchie_03.png\n",
      "Переименовано: Guy Ritchie_04.png -> Guy Ritchie_04.png\n",
      "Переименовано: Guy Ritchie_05.png -> Guy Ritchie_05.png\n",
      "Переименовано: Guy Ritchie_06.png -> Guy Ritchie_06.png\n",
      "Переименовано: Guy Ritchie_07.png -> Guy Ritchie_07.png\n",
      "Переименовано: Guy Ritchie_08.png -> Guy Ritchie_08.png\n",
      "Переименовано: Guy Ritchie_09.png -> Guy Ritchie_09.png\n",
      "Переименовано: Guy Ritchie_10.png -> Guy Ritchie_10.png\n",
      "Переименовано: Guy Ritchie_11.png -> Guy Ritchie_11.png\n",
      "\n",
      "Обрабатываю папку: ./for_recognize/dataset/Ivan Basalaev\n",
      "Найдено 18 изображений\n",
      "Переименовано: photo_10_2025-05-06_16-52-50.jpg -> Ivan Basalaev_01.jpg\n",
      "Переименовано: photo_11_2025-05-06_16-52-50.jpg -> Ivan Basalaev_02.jpg\n",
      "Переименовано: photo_12_2025-05-06_16-52-50.jpg -> Ivan Basalaev_03.jpg\n",
      "Переименовано: photo_13_2025-05-06_16-52-50.jpg -> Ivan Basalaev_04.jpg\n",
      "Переименовано: photo_14_2025-05-06_16-52-50.jpg -> Ivan Basalaev_05.jpg\n",
      "Переименовано: photo_15_2025-05-06_16-52-50.jpg -> Ivan Basalaev_06.jpg\n",
      "Переименовано: photo_16_2025-05-06_16-52-50.jpg -> Ivan Basalaev_07.jpg\n",
      "Переименовано: photo_17_2025-05-06_16-52-50.jpg -> Ivan Basalaev_08.jpg\n",
      "Переименовано: photo_18_2025-05-06_16-52-50.jpg -> Ivan Basalaev_09.jpg\n",
      "Переименовано: photo_1_2025-05-06_16-52-50.jpg -> Ivan Basalaev_10.jpg\n",
      "Переименовано: photo_2_2025-05-06_16-52-50.jpg -> Ivan Basalaev_11.jpg\n",
      "Переименовано: photo_3_2025-05-06_16-52-50.jpg -> Ivan Basalaev_12.jpg\n",
      "Переименовано: photo_4_2025-05-06_16-52-50.jpg -> Ivan Basalaev_13.jpg\n",
      "Переименовано: photo_5_2025-05-06_16-52-50.jpg -> Ivan Basalaev_14.jpg\n",
      "Переименовано: photo_6_2025-05-06_16-52-50.jpg -> Ivan Basalaev_15.jpg\n",
      "Переименовано: photo_7_2025-05-06_16-52-50.jpg -> Ivan Basalaev_16.jpg\n",
      "Переименовано: photo_8_2025-05-06_16-52-50.jpg -> Ivan Basalaev_17.jpg\n",
      "Переименовано: photo_9_2025-05-06_16-52-50.jpg -> Ivan Basalaev_18.jpg\n",
      "\n",
      "Обрабатываю папку: ./for_recognize/dataset/Jason Statham\n",
      "Найдено 10 изображений\n",
      "Переименовано: Jason Statham_01.png -> Jason Statham_01.png\n",
      "Переименовано: Jason Statham_02.png -> Jason Statham_02.png\n",
      "Переименовано: Jason Statham_03.png -> Jason Statham_03.png\n",
      "Переименовано: Jason Statham_04.png -> Jason Statham_04.png\n",
      "Переименовано: Jason Statham_05.png -> Jason Statham_05.png\n",
      "Переименовано: Jason Statham_06.png -> Jason Statham_06.png\n",
      "Переименовано: Jason Statham_07.png -> Jason Statham_07.png\n",
      "Переименовано: Jason Statham_08.png -> Jason Statham_08.png\n",
      "Переименовано: Jason Statham_09.png -> Jason Statham_09.png\n",
      "Переименовано: Jason Statham_10.png -> Jason Statham_10.png\n",
      "\n",
      "Обрабатываю папку: ./for_recognize/dataset/Jennifer Lopez\n",
      "Найдено 11 изображений\n",
      "Переименовано: Jennifer Lopez_01.png -> Jennifer Lopez_01.png\n",
      "Переименовано: Jennifer Lopez_02.png -> Jennifer Lopez_02.png\n",
      "Переименовано: Jennifer Lopez_03.png -> Jennifer Lopez_03.png\n",
      "Переименовано: Jennifer Lopez_04.png -> Jennifer Lopez_04.png\n",
      "Переименовано: Jennifer Lopez_05.png -> Jennifer Lopez_05.png\n",
      "Переименовано: Jennifer Lopez_06.png -> Jennifer Lopez_06.png\n",
      "Переименовано: Jennifer Lopez_07.png -> Jennifer Lopez_07.png\n",
      "Переименовано: Jennifer Lopez_08.png -> Jennifer Lopez_08.png\n",
      "Переименовано: Jennifer Lopez_09.png -> Jennifer Lopez_09.png\n",
      "Переименовано: Jennifer Lopez_10.png -> Jennifer Lopez_10.png\n",
      "Переименовано: Jennifer Lopez_11.png -> Jennifer Lopez_11.png\n",
      "\n",
      "Обрабатываю папку: ./for_recognize/dataset/Jim Carrey\n",
      "Найдено 12 изображений\n",
      "Переименовано: Jim Carrey_01.png -> Jim Carrey_01.png\n",
      "Переименовано: Jim Carrey_02.png -> Jim Carrey_02.png\n",
      "Переименовано: Jim Carrey_03.png -> Jim Carrey_03.png\n",
      "Переименовано: Jim Carrey_04.png -> Jim Carrey_04.png\n",
      "Переименовано: Jim Carrey_05.png -> Jim Carrey_05.png\n",
      "Переименовано: Jim Carrey_06.png -> Jim Carrey_06.png\n",
      "Переименовано: Jim Carrey_07.png -> Jim Carrey_07.png\n",
      "Переименовано: Jim Carrey_08.png -> Jim Carrey_08.png\n",
      "Переименовано: Jim Carrey_09.png -> Jim Carrey_09.png\n",
      "Переименовано: Jim Carrey_10.png -> Jim Carrey_10.png\n",
      "Переименовано: Jim Carrey_11.png -> Jim Carrey_11.png\n",
      "Переименовано: Jim Carrey_12.png -> Jim Carrey_12.png\n",
      "\n",
      "Обрабатываю папку: ./for_recognize/dataset/Johnny Depp\n",
      "Найдено 10 изображений\n",
      "Переименовано: Johnny Depp_01.png -> Johnny Depp_01.png\n",
      "Переименовано: Johnny Depp_02.png -> Johnny Depp_02.png\n",
      "Переименовано: Johnny Depp_03.png -> Johnny Depp_03.png\n",
      "Переименовано: Johnny Depp_04.png -> Johnny Depp_04.png\n",
      "Переименовано: Johnny Depp_05.png -> Johnny Depp_05.png\n",
      "Переименовано: Johnny Depp_06.png -> Johnny Depp_06.png\n",
      "Переименовано: Johnny Depp_07.png -> Johnny Depp_07.png\n",
      "Переименовано: Johnny Depp_08.png -> Johnny Depp_08.png\n",
      "Переименовано: Johnny Depp_09.png -> Johnny Depp_09.png\n",
      "Переименовано: Johnny Depp_10.png -> Johnny Depp_10.png\n",
      "\n",
      "Обрабатываю папку: ./for_recognize/dataset/Lady Gaga\n",
      "Найдено 10 изображений\n",
      "Переименовано: Lady Gaga_01.png -> Lady Gaga_01.png\n",
      "Переименовано: Lady Gaga_02.png -> Lady Gaga_02.png\n",
      "Переименовано: Lady Gaga_03.png -> Lady Gaga_03.png\n",
      "Переименовано: Lady Gaga_04.png -> Lady Gaga_04.png\n",
      "Переименовано: Lady Gaga_05.png -> Lady Gaga_05.png\n",
      "Переименовано: Lady Gaga_06.png -> Lady Gaga_06.png\n",
      "Переименовано: Lady Gaga_07.png -> Lady Gaga_07.png\n",
      "Переименовано: Lady Gaga_08.png -> Lady Gaga_08.png\n",
      "Переименовано: Lady Gaga_09.png -> Lady Gaga_09.png\n",
      "Переименовано: Lady Gaga_10.png -> Lady Gaga_10.png\n",
      "\n",
      "Обрабатываю папку: ./for_recognize/dataset/Leonardo DiCaprio\n",
      "Найдено 10 изображений\n",
      "Переименовано: Leonardo DiCaprio_01.png -> Leonardo DiCaprio_01.png\n",
      "Переименовано: Leonardo DiCaprio_02.png -> Leonardo DiCaprio_02.png\n",
      "Переименовано: Leonardo DiCaprio_03.png -> Leonardo DiCaprio_03.png\n",
      "Переименовано: Leonardo DiCaprio_04.png -> Leonardo DiCaprio_04.png\n",
      "Переименовано: Leonardo DiCaprio_05.png -> Leonardo DiCaprio_05.png\n",
      "Переименовано: Leonardo DiCaprio_06.png -> Leonardo DiCaprio_06.png\n",
      "Переименовано: Leonardo DiCaprio_07.png -> Leonardo DiCaprio_07.png\n",
      "Переименовано: Leonardo DiCaprio_08.png -> Leonardo DiCaprio_08.png\n",
      "Переименовано: Leonardo DiCaprio_09.png -> Leonardo DiCaprio_09.png\n",
      "Переименовано: Leonardo DiCaprio_10.png -> Leonardo DiCaprio_10.png\n",
      "\n",
      "Обрабатываю папку: ./for_recognize/dataset/Madonna\n",
      "Найдено 11 изображений\n",
      "Переименовано: Madonna_01.png -> Madonna_01.png\n",
      "Переименовано: Madonna_02.png -> Madonna_02.png\n",
      "Переименовано: Madonna_03.png -> Madonna_03.png\n",
      "Переименовано: Madonna_04.png -> Madonna_04.png\n",
      "Переименовано: Madonna_05.png -> Madonna_05.png\n",
      "Переименовано: Madonna_06.png -> Madonna_06.png\n",
      "Переименовано: Madonna_07.png -> Madonna_07.png\n",
      "Переименовано: Madonna_08.png -> Madonna_08.png\n",
      "Переименовано: Madonna_09.png -> Madonna_09.png\n",
      "Переименовано: Madonna_10.png -> Madonna_10.png\n",
      "Переименовано: Madonna_11.png -> Madonna_11.png\n",
      "\n",
      "Обрабатываю папку: ./for_recognize/dataset/Marilyn Monroe\n",
      "Найдено 11 изображений\n",
      "Переименовано: Marilyn Monroe_01.png -> Marilyn Monroe_01.png\n",
      "Переименовано: Marilyn Monroe_02.png -> Marilyn Monroe_02.png\n",
      "Переименовано: Marilyn Monroe_03.png -> Marilyn Monroe_03.png\n",
      "Переименовано: Marilyn Monroe_04.png -> Marilyn Monroe_04.png\n",
      "Переименовано: Marilyn Monroe_05.png -> Marilyn Monroe_05.png\n",
      "Переименовано: Marilyn Monroe_06.png -> Marilyn Monroe_06.png\n",
      "Переименовано: Marilyn Monroe_07.png -> Marilyn Monroe_07.png\n",
      "Переименовано: Marilyn Monroe_08.png -> Marilyn Monroe_08.png\n",
      "Переименовано: Marilyn Monroe_09.png -> Marilyn Monroe_09.png\n",
      "Переименовано: Marilyn Monroe_10.png -> Marilyn Monroe_10.png\n",
      "Переименовано: Marilyn Monroe_11.png -> Marilyn Monroe_11.png\n",
      "\n",
      "Обрабатываю папку: ./for_recognize/dataset/Mark Zuckerberg\n",
      "Найдено 10 изображений\n",
      "Переименовано: Mark Zuckerberg_01.png -> Mark Zuckerberg_01.png\n",
      "Переименовано: Mark Zuckerberg_02.png -> Mark Zuckerberg_02.png\n",
      "Переименовано: Mark Zuckerberg_03.png -> Mark Zuckerberg_03.png\n",
      "Переименовано: Mark Zuckerberg_04.png -> Mark Zuckerberg_04.png\n",
      "Переименовано: Mark Zuckerberg_05.png -> Mark Zuckerberg_05.png\n",
      "Переименовано: Mark Zuckerberg_06.png -> Mark Zuckerberg_06.png\n",
      "Переименовано: Mark Zuckerberg_07.png -> Mark Zuckerberg_07.png\n",
      "Переименовано: Mark Zuckerberg_08.png -> Mark Zuckerberg_08.png\n",
      "Переименовано: Mark Zuckerberg_09.png -> Mark Zuckerberg_09.png\n",
      "Переименовано: Mark Zuckerberg_10.png -> Mark Zuckerberg_10.png\n",
      "\n",
      "Обрабатываю папку: ./for_recognize/dataset/Martin Scorsese\n",
      "Найдено 10 изображений\n",
      "Переименовано: Martin Scorsese_01.png -> Martin Scorsese_01.png\n",
      "Переименовано: Martin Scorsese_02.png -> Martin Scorsese_02.png\n",
      "Переименовано: Martin Scorsese_03.png -> Martin Scorsese_03.png\n",
      "Переименовано: Martin Scorsese_04.png -> Martin Scorsese_04.png\n",
      "Переименовано: Martin Scorsese_05.png -> Martin Scorsese_05.png\n",
      "Переименовано: Martin Scorsese_06.png -> Martin Scorsese_06.png\n",
      "Переименовано: Martin Scorsese_07.png -> Martin Scorsese_07.png\n",
      "Переименовано: Martin Scorsese_08.png -> Martin Scorsese_08.png\n",
      "Переименовано: Martin Scorsese_09.png -> Martin Scorsese_09.png\n",
      "Переименовано: Martin Scorsese_10.png -> Martin Scorsese_10.png\n",
      "\n",
      "Обрабатываю папку: ./for_recognize/dataset/Matthew McConaughey\n",
      "Найдено 11 изображений\n",
      "Переименовано: Matthew McConaughey_01.png -> Matthew McConaughey_01.png\n",
      "Переименовано: Matthew McConaughey_02.png -> Matthew McConaughey_02.png\n",
      "Переименовано: Matthew McConaughey_03.png -> Matthew McConaughey_03.png\n",
      "Переименовано: Matthew McConaughey_04.png -> Matthew McConaughey_04.png\n",
      "Переименовано: Matthew McConaughey_05.png -> Matthew McConaughey_05.png\n",
      "Переименовано: Matthew McConaughey_06.png -> Matthew McConaughey_06.png\n",
      "Переименовано: Matthew McConaughey_07.png -> Matthew McConaughey_07.png\n",
      "Переименовано: Matthew McConaughey_08.png -> Matthew McConaughey_08.png\n",
      "Переименовано: Matthew McConaughey_09.png -> Matthew McConaughey_09.png\n",
      "Переименовано: Matthew McConaughey_10.png -> Matthew McConaughey_10.png\n",
      "Переименовано: Matthew McConaughey_11.png -> Matthew McConaughey_11.png\n",
      "\n",
      "Обрабатываю папку: ./for_recognize/dataset/Michael Jackson\n",
      "Найдено 10 изображений\n",
      "Переименовано: Michael Jackson_01.png -> Michael Jackson_01.png\n",
      "Переименовано: Michael Jackson_02.png -> Michael Jackson_02.png\n",
      "Переименовано: Michael Jackson_03.png -> Michael Jackson_03.png\n",
      "Переименовано: Michael Jackson_04.png -> Michael Jackson_04.png\n",
      "Переименовано: Michael Jackson_05.png -> Michael Jackson_05.png\n",
      "Переименовано: Michael Jackson_06.png -> Michael Jackson_06.png\n",
      "Переименовано: Michael Jackson_07.png -> Michael Jackson_07.png\n",
      "Переименовано: Michael Jackson_08.png -> Michael Jackson_08.png\n",
      "Переименовано: Michael Jackson_09.png -> Michael Jackson_09.png\n",
      "Переименовано: Michael Jackson_10.png -> Michael Jackson_10.png\n",
      "\n",
      "Обрабатываю папку: ./for_recognize/dataset/Mike Tyson\n",
      "Найдено 10 изображений\n",
      "Переименовано: Mike Tyson_01.png -> Mike Tyson_01.png\n",
      "Переименовано: Mike Tyson_02.png -> Mike Tyson_02.png\n",
      "Переименовано: Mike Tyson_03.png -> Mike Tyson_03.png\n",
      "Переименовано: Mike Tyson_04.png -> Mike Tyson_04.png\n",
      "Переименовано: Mike Tyson_05.png -> Mike Tyson_05.png\n",
      "Переименовано: Mike Tyson_06.png -> Mike Tyson_06.png\n",
      "Переименовано: Mike Tyson_07.png -> Mike Tyson_07.png\n",
      "Переименовано: Mike Tyson_08.png -> Mike Tyson_08.png\n",
      "Переименовано: Mike Tyson_09.png -> Mike Tyson_09.png\n",
      "Переименовано: Mike Tyson_10.png -> Mike Tyson_10.png\n",
      "\n",
      "Обрабатываю папку: ./for_recognize/dataset/Monica Bellucci\n",
      "Найдено 10 изображений\n",
      "Переименовано: Monica Bellucci_01.png -> Monica Bellucci_01.png\n",
      "Переименовано: Monica Bellucci_02.png -> Monica Bellucci_02.png\n",
      "Переименовано: Monica Bellucci_03.png -> Monica Bellucci_03.png\n",
      "Переименовано: Monica Bellucci_04.png -> Monica Bellucci_04.png\n",
      "Переименовано: Monica Bellucci_05.png -> Monica Bellucci_05.png\n",
      "Переименовано: Monica Bellucci_06.png -> Monica Bellucci_06.png\n",
      "Переименовано: Monica Bellucci_07.png -> Monica Bellucci_07.png\n",
      "Переименовано: Monica Bellucci_08.png -> Monica Bellucci_08.png\n",
      "Переименовано: Monica Bellucci_09.png -> Monica Bellucci_09.png\n",
      "Переименовано: Monica Bellucci_10.png -> Monica Bellucci_10.png\n",
      "\n",
      "Обрабатываю папку: ./for_recognize/dataset/Quentin Tarantino\n",
      "Найдено 10 изображений\n",
      "Переименовано: Quentin Tarantino_01.png -> Quentin Tarantino_01.png\n",
      "Переименовано: Quentin Tarantino_02.png -> Quentin Tarantino_02.png\n",
      "Переименовано: Quentin Tarantino_03.png -> Quentin Tarantino_03.png\n",
      "Переименовано: Quentin Tarantino_04.png -> Quentin Tarantino_04.png\n",
      "Переименовано: Quentin Tarantino_05.png -> Quentin Tarantino_05.png\n",
      "Переименовано: Quentin Tarantino_06.png -> Quentin Tarantino_06.png\n",
      "Переименовано: Quentin Tarantino_07.png -> Quentin Tarantino_07.png\n",
      "Переименовано: Quentin Tarantino_08.png -> Quentin Tarantino_08.png\n",
      "Переименовано: Quentin Tarantino_09.png -> Quentin Tarantino_09.png\n",
      "Переименовано: Quentin Tarantino_10.png -> Quentin Tarantino_10.png\n",
      "\n",
      "Обрабатываю папку: ./for_recognize/dataset/Robert Downey Jr\n",
      "Найдено 11 изображений\n",
      "Переименовано: Robert Downey Jr_01.png -> Robert Downey Jr_01.png\n",
      "Переименовано: Robert Downey Jr_02.png -> Robert Downey Jr_02.png\n",
      "Переименовано: Robert Downey Jr_03.png -> Robert Downey Jr_03.png\n",
      "Переименовано: Robert Downey Jr_04.png -> Robert Downey Jr_04.png\n",
      "Переименовано: Robert Downey Jr_05.png -> Robert Downey Jr_05.png\n",
      "Переименовано: Robert Downey Jr_06.png -> Robert Downey Jr_06.png\n",
      "Переименовано: Robert Downey Jr_07.png -> Robert Downey Jr_07.png\n",
      "Переименовано: Robert Downey Jr_08.png -> Robert Downey Jr_08.png\n",
      "Переименовано: Robert Downey Jr_09.png -> Robert Downey Jr_09.png\n",
      "Переименовано: Robert Downey Jr_10.png -> Robert Downey Jr_10.png\n",
      "Переименовано: Robert Downey Jr_11.png -> Robert Downey Jr_11.png\n",
      "\n",
      "Обрабатываю папку: ./for_recognize/dataset/Salma Hayek\n",
      "Найдено 12 изображений\n",
      "Переименовано: Salma Hayek_01.png -> Salma Hayek_01.png\n",
      "Переименовано: Salma Hayek_02.png -> Salma Hayek_02.png\n",
      "Переименовано: Salma Hayek_03.png -> Salma Hayek_03.png\n",
      "Переименовано: Salma Hayek_04.png -> Salma Hayek_04.png\n",
      "Переименовано: Salma Hayek_05.png -> Salma Hayek_05.png\n",
      "Переименовано: Salma Hayek_06.png -> Salma Hayek_06.png\n",
      "Переименовано: Salma Hayek_07.png -> Salma Hayek_07.png\n",
      "Переименовано: Salma Hayek_08.png -> Salma Hayek_08.png\n",
      "Переименовано: Salma Hayek_09.png -> Salma Hayek_09.png\n",
      "Переименовано: Salma Hayek_10.png -> Salma Hayek_10.png\n",
      "Переименовано: Salma Hayek_11.png -> Salma Hayek_11.png\n",
      "Переименовано: Salma Hayek_12.png -> Salma Hayek_12.png\n",
      "\n",
      "Обрабатываю папку: ./for_recognize/dataset/Scarlett Johansson\n",
      "Найдено 9 изображений\n",
      "Переименовано: Scarlett Johansson_01.png -> Scarlett Johansson_01.png\n",
      "Переименовано: Scarlett Johansson_02.png -> Scarlett Johansson_02.png\n",
      "Переименовано: Scarlett Johansson_03.png -> Scarlett Johansson_03.png\n",
      "Переименовано: Scarlett Johansson_04.png -> Scarlett Johansson_04.png\n",
      "Переименовано: Scarlett Johansson_05.png -> Scarlett Johansson_05.png\n",
      "Переименовано: Scarlett Johansson_06.png -> Scarlett Johansson_06.png\n",
      "Переименовано: Scarlett Johansson_07.png -> Scarlett Johansson_07.png\n",
      "Переименовано: Scarlett Johansson_08.png -> Scarlett Johansson_08.png\n",
      "Переименовано: Scarlett Johansson_09.png -> Scarlett Johansson_09.png\n",
      "\n",
      "Обрабатываю папку: ./for_recognize/dataset/Steve Jobs\n",
      "Найдено 10 изображений\n",
      "Переименовано: Steve Jobs_01.png -> Steve Jobs_01.png\n",
      "Переименовано: Steve Jobs_02.png -> Steve Jobs_02.png\n",
      "Переименовано: Steve Jobs_03.png -> Steve Jobs_03.png\n",
      "Переименовано: Steve Jobs_04.png -> Steve Jobs_04.png\n",
      "Переименовано: Steve Jobs_05.png -> Steve Jobs_05.png\n",
      "Переименовано: Steve Jobs_06.png -> Steve Jobs_06.png\n",
      "Переименовано: Steve Jobs_07.png -> Steve Jobs_07.png\n",
      "Переименовано: Steve Jobs_08.png -> Steve Jobs_08.png\n",
      "Переименовано: Steve Jobs_09.png -> Steve Jobs_09.png\n",
      "Переименовано: Steve Jobs_10.png -> Steve Jobs_10.png\n",
      "\n",
      "Обрабатываю папку: ./for_recognize/dataset/Sylvester Stallone\n",
      "Найдено 10 изображений\n",
      "Переименовано: Sylvester Stallone_01.png -> Sylvester Stallone_01.png\n",
      "Переименовано: Sylvester Stallone_02.png -> Sylvester Stallone_02.png\n",
      "Переименовано: Sylvester Stallone_03.png -> Sylvester Stallone_03.png\n",
      "Переименовано: Sylvester Stallone_04.png -> Sylvester Stallone_04.png\n",
      "Переименовано: Sylvester Stallone_05.png -> Sylvester Stallone_05.png\n",
      "Переименовано: Sylvester Stallone_06.png -> Sylvester Stallone_06.png\n",
      "Переименовано: Sylvester Stallone_07.png -> Sylvester Stallone_07.png\n",
      "Переименовано: Sylvester Stallone_08.png -> Sylvester Stallone_08.png\n",
      "Переименовано: Sylvester Stallone_09.png -> Sylvester Stallone_09.png\n",
      "Переименовано: Sylvester Stallone_10.png -> Sylvester Stallone_10.png\n",
      "\n",
      "Обрабатываю папку: ./for_recognize/dataset/Tom Cruise\n",
      "Найдено 11 изображений\n",
      "Переименовано: Tom Cruise_01.png -> Tom Cruise_01.png\n",
      "Переименовано: Tom Cruise_02.png -> Tom Cruise_02.png\n",
      "Переименовано: Tom Cruise_03.png -> Tom Cruise_03.png\n",
      "Переименовано: Tom Cruise_04.png -> Tom Cruise_04.png\n",
      "Переименовано: Tom Cruise_05.png -> Tom Cruise_05.png\n",
      "Переименовано: Tom Cruise_06.png -> Tom Cruise_06.png\n",
      "Переименовано: Tom Cruise_07.png -> Tom Cruise_07.png\n",
      "Переименовано: Tom Cruise_08.png -> Tom Cruise_08.png\n",
      "Переименовано: Tom Cruise_09.png -> Tom Cruise_09.png\n",
      "Переименовано: Tom Cruise_10.png -> Tom Cruise_10.png\n",
      "Переименовано: Tom Cruise_11.png -> Tom Cruise_11.png\n",
      "\n",
      "Обрабатываю папку: ./for_recognize/dataset/Tom Hardy\n",
      "Найдено 12 изображений\n",
      "Переименовано: Tom Hardy_01.png -> Tom Hardy_01.png\n",
      "Переименовано: Tom Hardy_02.png -> Tom Hardy_02.png\n",
      "Переименовано: Tom Hardy_03.png -> Tom Hardy_03.png\n",
      "Переименовано: Tom Hardy_04.png -> Tom Hardy_04.png\n",
      "Переименовано: Tom Hardy_05.png -> Tom Hardy_05.png\n",
      "Переименовано: Tom Hardy_06.png -> Tom Hardy_06.png\n",
      "Переименовано: Tom Hardy_07.png -> Tom Hardy_07.png\n",
      "Переименовано: Tom Hardy_08.png -> Tom Hardy_08.png\n",
      "Переименовано: Tom Hardy_09.png -> Tom Hardy_09.png\n",
      "Переименовано: Tom Hardy_10.png -> Tom Hardy_10.png\n"
     ]
    },
    {
     "name": "stdout",
     "output_type": "stream",
     "text": [
      "Переименовано: Tom Hardy_11.png -> Tom Hardy_11.png\n",
      "Переименовано: Tom Hardy_12.png -> Tom Hardy_12.png\n",
      "\n",
      "Обрабатываю папку: ./for_recognize/dataset/Uma Thurman\n",
      "Найдено 11 изображений\n",
      "Переименовано: Uma Thurman_01.png -> Uma Thurman_01.png\n",
      "Переименовано: Uma Thurman_02.png -> Uma Thurman_02.png\n",
      "Переименовано: Uma Thurman_03.png -> Uma Thurman_03.png\n",
      "Переименовано: Uma Thurman_04.png -> Uma Thurman_04.png\n",
      "Переименовано: Uma Thurman_05.png -> Uma Thurman_05.png\n",
      "Переименовано: Uma Thurman_06.png -> Uma Thurman_06.png\n",
      "Переименовано: Uma Thurman_07.png -> Uma Thurman_07.png\n",
      "Переименовано: Uma Thurman_08.png -> Uma Thurman_08.png\n",
      "Переименовано: Uma Thurman_09.png -> Uma Thurman_09.png\n",
      "Переименовано: Uma Thurman_10.png -> Uma Thurman_10.png\n",
      "Переименовано: Uma Thurman_11.png -> Uma Thurman_11.png\n",
      "\n",
      "Обрабатываю папку: ./for_recognize/dataset/Viktor Tsoi\n",
      "Найдено 10 изображений\n",
      "Переименовано: Viktor Tsoi_01.png -> Viktor Tsoi_01.png\n",
      "Переименовано: Viktor Tsoi_02.png -> Viktor Tsoi_02.png\n",
      "Переименовано: Viktor Tsoi_03.png -> Viktor Tsoi_03.png\n",
      "Переименовано: Viktor Tsoi_04.png -> Viktor Tsoi_04.png\n",
      "Переименовано: Viktor Tsoi_05.png -> Viktor Tsoi_05.png\n",
      "Переименовано: Viktor Tsoi_06.png -> Viktor Tsoi_06.png\n",
      "Переименовано: Viktor Tsoi_07.png -> Viktor Tsoi_07.png\n",
      "Переименовано: Viktor Tsoi_08.png -> Viktor Tsoi_08.png\n",
      "Переименовано: Viktor Tsoi_09.png -> Viktor Tsoi_09.png\n",
      "Переименовано: Viktor Tsoi_10.png -> Viktor Tsoi_10.png\n",
      "\n",
      "Обрабатываю папку: ./for_recognize/dataset/Vin Diesel\n",
      "Найдено 10 изображений\n",
      "Переименовано: Vin Diesel_01.png -> Vin Diesel_01.png\n",
      "Переименовано: Vin Diesel_02.png -> Vin Diesel_02.png\n",
      "Переименовано: Vin Diesel_03.png -> Vin Diesel_03.png\n",
      "Переименовано: Vin Diesel_04.png -> Vin Diesel_04.png\n",
      "Переименовано: Vin Diesel_05.png -> Vin Diesel_05.png\n",
      "Переименовано: Vin Diesel_06.png -> Vin Diesel_06.png\n",
      "Переименовано: Vin Diesel_07.png -> Vin Diesel_07.png\n",
      "Переименовано: Vin Diesel_08.png -> Vin Diesel_08.png\n",
      "Переименовано: Vin Diesel_09.png -> Vin Diesel_09.png\n",
      "Переименовано: Vin Diesel_10.png -> Vin Diesel_10.png\n",
      "\n",
      "Обрабатываю папку: ./for_recognize/dataset/Vladimir Vysotsky\n",
      "Найдено 10 изображений\n",
      "Переименовано: Vladimir Vysotsky_01.png -> Vladimir Vysotsky_01.png\n",
      "Переименовано: Vladimir Vysotsky_02.png -> Vladimir Vysotsky_02.png\n",
      "Переименовано: Vladimir Vysotsky_03.png -> Vladimir Vysotsky_03.png\n",
      "Переименовано: Vladimir Vysotsky_04.png -> Vladimir Vysotsky_04.png\n",
      "Переименовано: Vladimir Vysotsky_05.png -> Vladimir Vysotsky_05.png\n",
      "Переименовано: Vladimir Vysotsky_06.png -> Vladimir Vysotsky_06.png\n",
      "Переименовано: Vladimir Vysotsky_07.png -> Vladimir Vysotsky_07.png\n",
      "Переименовано: Vladimir Vysotsky_08.png -> Vladimir Vysotsky_08.png\n",
      "Переименовано: Vladimir Vysotsky_09.png -> Vladimir Vysotsky_09.png\n",
      "Переименовано: Vladimir Vysotsky_10.png -> Vladimir Vysotsky_10.png\n",
      "\n",
      "Обрабатываю папку: ./for_recognize/dataset/Will Smith\n",
      "Найдено 10 изображений\n",
      "Переименовано: Will Smith_01.png -> Will Smith_01.png\n",
      "Переименовано: Will Smith_02.png -> Will Smith_02.png\n",
      "Переименовано: Will Smith_03.png -> Will Smith_03.png\n",
      "Переименовано: Will Smith_04.png -> Will Smith_04.png\n",
      "Переименовано: Will Smith_05.png -> Will Smith_05.png\n",
      "Переименовано: Will Smith_06.png -> Will Smith_06.png\n",
      "Переименовано: Will Smith_07.png -> Will Smith_07.png\n",
      "Переименовано: Will Smith_08.png -> Will Smith_08.png\n",
      "Переименовано: Will Smith_09.png -> Will Smith_09.png\n",
      "Переименовано: Will Smith_10.png -> Will Smith_10.png\n",
      "\n",
      "Обрабатываю папку: ./for_recognize/dataset/Yuri Nikulin\n",
      "Найдено 10 изображений\n",
      "Переименовано: Yuri Nikulin_01.png -> Yuri Nikulin_01.png\n",
      "Переименовано: Yuri Nikulin_02.png -> Yuri Nikulin_02.png\n",
      "Переименовано: Yuri Nikulin_03.png -> Yuri Nikulin_03.png\n",
      "Переименовано: Yuri Nikulin_04.png -> Yuri Nikulin_04.png\n",
      "Переименовано: Yuri Nikulin_05.png -> Yuri Nikulin_05.png\n",
      "Переименовано: Yuri Nikulin_06.png -> Yuri Nikulin_06.png\n",
      "Переименовано: Yuri Nikulin_07.png -> Yuri Nikulin_07.png\n",
      "Переименовано: Yuri Nikulin_08.png -> Yuri Nikulin_08.png\n",
      "Переименовано: Yuri Nikulin_09.png -> Yuri Nikulin_09.png\n",
      "Переименовано: Yuri Nikulin_10.png -> Yuri Nikulin_10.png\n"
     ]
    }
   ],
   "source": [
    "import os\n",
    "from PIL import Image\n",
    "import argparse\n",
    "\n",
    "def rename_photos_in_folders(root_dir):\n",
    "    \"\"\"\n",
    "    Переименовывает все фото в подпапках в формат 01.jpg, 02.jpg, ..., 10.jpg\n",
    "    \"\"\"\n",
    "    for subdir, _, files in os.walk(root_dir):\n",
    "        image_files = [f for f in files if f.lower().endswith(('.jpg', '.jpeg', '.png', '.bmp', '.gif'))]\n",
    "        if not image_files:\n",
    "            continue\n",
    "            \n",
    "        image_files.sort()\n",
    "        prefix = subdir.split(\"/\")[-1]\n",
    "        for i, filename in enumerate(image_files, 1):\n",
    "            old_path = os.path.join(subdir, filename)\n",
    "\n",
    "            ext = os.path.splitext(filename)[1].lower()\n",
    "\n",
    "            new_name = f\"{prefix}_{i:02d}{ext}\"\n",
    "            new_path = os.path.join(subdir, new_name)\n",
    "\n",
    "            try:\n",
    "                os.rename(old_path, new_path)\n",
    "                print(f\"Переименовано: {filename} -> {new_name}\")\n",
    "            except Exception as e:\n",
    "                print(f\"Ошибка при переименовании {filename}: {e}\")\n",
    "\n",
    "rename_photos_in_folders('./for_recognize/dataset/')"
   ]
  },
  {
   "cell_type": "code",
   "execution_count": 17,
   "id": "6adc89b4",
   "metadata": {
    "ExecuteTime": {
     "end_time": "2025-05-06T14:01:45.686090Z",
     "start_time": "2025-05-06T14:01:45.647784Z"
    },
    "code_folding": [
     4
    ],
    "jupyter": {
     "source_hidden": true
    }
   },
   "outputs": [
    {
     "name": "stdout",
     "output_type": "stream",
     "text": [
      "Сгенерировано 450 задач. Файл сохранен как label_studio_import.json\n"
     ]
    }
   ],
   "source": [
    "import os\n",
    "import json\n",
    "from glob import glob\n",
    "\n",
    "def generate_label_studio_import(dataset_path, output_file=\"label_studio_import.json\"):\n",
    "    tasks = []\n",
    "    \n",
    "    for person_folder in os.listdir(dataset_path):\n",
    "        folder_path = os.path.join(dataset_path, person_folder)\n",
    "        if not os.path.isdir(folder_path):\n",
    "            continue\n",
    "            \n",
    "        # Получаем все изображения в папке (сортированные по имени)\n",
    "        image_files = sorted(glob(os.path.join(folder_path, \"*.jpg\")) + \n",
    "                            glob(os.path.join(folder_path, \"*.png\")))\n",
    "        \n",
    "        for img_path in image_files:\n",
    "            # Создаем запись для Label Studio\n",
    "            task = {\n",
    "                \"data\": {\n",
    "\n",
    "                    \"image\": f\"/data/local-files/?d={img_path}\",  # Путь будет настроен в LS\n",
    "                    \"folder\": person_folder  # Название папки как метка класса\n",
    "                }\n",
    "            }\n",
    "            tasks.append(task)\n",
    "    \n",
    "    # Сохраняем в JSON\n",
    "    with open(output_file, 'w', encoding='utf-8') as f:\n",
    "        json.dump(tasks, f, ensure_ascii=False, indent=2)\n",
    "    \n",
    "    print(f\"Сгенерировано {len(tasks)} задач. Файл сохранен как {output_file}\")\n",
    "\n",
    "# Пример использования\n",
    "generate_label_studio_import(\"for_recognize/dataset/\")"
   ]
  },
  {
   "cell_type": "code",
   "execution_count": null,
   "id": "9a9d83db",
   "metadata": {
    "scrolled": true
   },
   "outputs": [],
   "source": [
    "import cv2\n",
    "from ultralytics import YOLO\n",
    "from pathlib import Path\n",
    "import matplotlib.pyplot as plt\n",
    "from PIL import Image\n",
    "import numpy as np\n",
    "\n",
    "# Инициализация модели YOLO для детекции лиц\n",
    "model = YOLO('best(1).pt')  # Автоматически скачает модель при первом запуске\n",
    "\n",
    "# Путь к папке с изображениями\n",
    "image_dir = Path(r\"../label-studio/label-studio-files/dataset/\")\n",
    "\n",
    "# Функция для отображения изображения с bounding boxes\n",
    "def show_image_with_boxes(img_path, results):\n",
    "    # Загрузка оригинального изображения\n",
    "    img = cv2.imread(str(img_path))\n",
    "    img = cv2.cvtColor(img, cv2.COLOR_BGR2RGB)\n",
    "    \n",
    "    # Рисуем bounding boxes на изображении\n",
    "    for result in results:\n",
    "        for box in result.boxes:\n",
    "            # Координаты bounding box\n",
    "            x1, y1, x2, y2 = map(int, box.xyxy[0].tolist())\n",
    "            \n",
    "            # Рисуем прямоугольник\n",
    "            cv2.rectangle(img, (x1, y1), (x2, y2), (255, 0, 0), 2)\n",
    "            \n",
    "            # Добавляем текст с уверенностью\n",
    "            conf = box.conf.item()\n",
    "            cv2.putText(img, f\"{conf:.2f}\", (x1, y1-10), \n",
    "                        cv2.FONT_HERSHEY_SIMPLEX, 0.5, (255, 0, 0), 1)\n",
    "    \n",
    "    # Отображаем изображение\n",
    "    plt.figure(figsize=(10, 10))\n",
    "    plt.imshow(img)\n",
    "    plt.axis('off')\n",
    "    plt.title(f\"Detected faces in {img_path.name}\")\n",
    "    plt.show()\n",
    "\n",
    "image_extensions = ['.jpg', '.jpeg', '.png']\n",
    "\n",
    "for img_path in image_dir.glob('**/*'):\n",
    "    if img_path.suffix.lower() in image_extensions: # Можно добавить другие форматы: *.jpeg, *.png\n",
    "    # Выполнение детекции без сохранения\n",
    "        results = model.predict(\n",
    "            source=str(img_path),\n",
    "            save=False,  # Не сохраняем на диск\n",
    "            conf=0.5,    # Порог уверенности\n",
    "            iou=0.5      # Порог IoU для NMS\n",
    "        )\n",
    "\n",
    "        # Отображаем результаты\n",
    "        show_image_with_boxes(img_path, results)\n",
    "\n",
    "        # Выводим информацию о детекции\n",
    "        print(f\"Файл: {img_path}\")\n",
    "        print(\"Обнаруженные лица:\")\n",
    "        for result in results:\n",
    "            for box in result.boxes:\n",
    "                x1, y1, x2, y2 = box.xyxy[0].tolist()\n",
    "                conf = box.conf.item()\n",
    "                print(f\"- Координаты: [{x1:.1f}, {y1:.1f}, {x2:.1f}, {y2:.1f}], Уверенность: {conf:.2f}\")\n",
    "        print(\"\\n\" + \"=\"*50 + \"\\n\")\n",
    "\n",
    "print(\"Обработка завершена\")"
   ]
  },
  {
   "cell_type": "code",
   "execution_count": 1,
   "id": "76857393",
   "metadata": {
    "ExecuteTime": {
     "end_time": "2025-05-07T08:37:42.362280Z",
     "start_time": "2025-05-07T08:37:42.354520Z"
    }
   },
   "outputs": [],
   "source": [
    "import torch\n",
    "import torch.nn as nn\n",
    "import torch.optim as optim\n",
    "from torch.utils.data import DataLoader\n",
    "from torchvision import datasets, transforms\n",
    "import torchvision.models as models"
   ]
  },
  {
   "cell_type": "code",
   "execution_count": 9,
   "id": "7c4ee4dc",
   "metadata": {
    "ExecuteTime": {
     "end_time": "2025-05-07T08:37:42.864778Z",
     "start_time": "2025-05-07T08:37:42.855422Z"
    }
   },
   "outputs": [],
   "source": [
    "data_dir = '../label-studio/label-studio-files/cropped_dataset/'\n",
    "model_save_path = '../face_recognition_resnet_new1111.pth'\n",
    "labels_file = '../labels_organized.txt'\n",
    "num_epochs = 10\n",
    "batch_size = 32\n",
    "learning_rate = 0.001\n",
    "num_workers = 2  "
   ]
  },
  {
   "cell_type": "code",
   "execution_count": 10,
   "id": "f73a4794",
   "metadata": {
    "ExecuteTime": {
     "end_time": "2025-05-07T08:37:42.905793Z",
     "start_time": "2025-05-07T08:37:42.887243Z"
    }
   },
   "outputs": [
    {
     "name": "stdout",
     "output_type": "stream",
     "text": [
      "['Albert Einstein', 'Alla Pugacheva', 'Angelina Jolie', 'Arnold Schwarzenegger', 'Boris Yeltsin', 'Brad Pitt', 'Britney Spears', 'Demi Moore', 'Donald Trump', 'Elon Musk', 'Eminem', 'Freddie Mercury', 'Guy Ritchie', 'Ivan Basalaev', 'Jason Statham', 'Jennifer Lopez', 'Jim Carrey', 'Johnny Depp', 'Lady Gaga', 'Leonardo DiCaprio', 'Madonna', 'Marilyn Monroe', 'Mark Zuckerberg', 'Martin Scorsese', 'Matthew McConaughey', 'Michael Jackson', 'Mike Tyson', 'Monica Bellucci', 'Quentin Tarantino', 'Robert Downey Jr', 'Salma Hayek', 'Scarlett Johansson', 'Steve Jobs', 'Sylvester Stallone', 'Tom Cruise', 'Tom Hardy', 'Uma Thurman', 'Viktor Tsoi', 'Vin Diesel', 'Vladimir Vysotsky', 'Will Smith', 'Yuri Nikulin']\n",
      "42\n"
     ]
    }
   ],
   "source": [
    "transform = transforms.Compose([\n",
    "    transforms.Resize((224, 224)),\n",
    "    transforms.ToTensor(),\n",
    "    transforms.Normalize(mean=[0.485, 0.456, 0.406], std=[0.229, 0.224, 0.225])\n",
    "])\n",
    "\n",
    "image_dataset = datasets.ImageFolder(data_dir, transform)\n",
    "dataloader = DataLoader(image_dataset, batch_size=batch_size, shuffle=True, num_workers=num_workers)\n",
    "class_names = image_dataset.classes\n",
    "num_classes = len(class_names)\n",
    "print(class_names)\n",
    "print(num_classes)"
   ]
  },
  {
   "cell_type": "code",
   "execution_count": 11,
   "id": "eb398309",
   "metadata": {
    "ExecuteTime": {
     "end_time": "2025-05-07T08:37:42.929345Z",
     "start_time": "2025-05-07T08:37:42.919280Z"
    }
   },
   "outputs": [
    {
     "name": "stdout",
     "output_type": "stream",
     "text": [
      "Файл labels сохранен в: labels_organized.txt\n"
     ]
    }
   ],
   "source": [
    "with open(labels_file, 'w') as f:\n",
    "    str2write = \"\\n\".join(class_names)\n",
    "    f.write(str2write)\n",
    "print(f\"Файл labels сохранен в: {labels_file}\")"
   ]
  },
  {
   "cell_type": "code",
   "execution_count": 12,
   "id": "4e0f0adc",
   "metadata": {
    "ExecuteTime": {
     "end_time": "2025-05-07T08:37:43.110894Z",
     "start_time": "2025-05-07T08:37:42.954560Z"
    }
   },
   "outputs": [],
   "source": [
    "model = models.resnet18(pretrained=True)\n",
    "num_ftrs = model.fc.in_features\n",
    "model.fc = nn.Linear(num_ftrs, num_classes)"
   ]
  },
  {
   "cell_type": "code",
   "execution_count": 13,
   "id": "60937c60",
   "metadata": {
    "ExecuteTime": {
     "end_time": "2025-05-07T08:37:43.119655Z",
     "start_time": "2025-05-07T08:37:43.112908Z"
    }
   },
   "outputs": [
    {
     "name": "stdout",
     "output_type": "stream",
     "text": [
      "cuda\n"
     ]
    }
   ],
   "source": [
    "device = torch.device(\"cuda\" if torch.cuda.is_available() else \"cpu\")\n",
    "print(device)\n",
    "model = model.to(device)"
   ]
  },
  {
   "cell_type": "code",
   "execution_count": 14,
   "id": "f9486a5a",
   "metadata": {
    "ExecuteTime": {
     "end_time": "2025-05-07T08:37:43.127157Z",
     "start_time": "2025-05-07T08:37:43.119655Z"
    }
   },
   "outputs": [],
   "source": [
    "criterion = nn.CrossEntropyLoss()\n",
    "optimizer = optim.Adam(model.parameters(), lr=learning_rate)"
   ]
  },
  {
   "cell_type": "code",
   "execution_count": 15,
   "id": "eadd39a0",
   "metadata": {
    "ExecuteTime": {
     "end_time": "2025-05-07T08:43:41.375134Z",
     "start_time": "2025-05-07T08:37:43.127157Z"
    }
   },
   "outputs": [
    {
     "name": "stdout",
     "output_type": "stream",
     "text": [
      "Эпоха 1/10\n",
      "  Потери: 3.0026\n",
      "Эпоха 2/10\n",
      "  Потери: 0.9612\n",
      "Эпоха 3/10\n",
      "  Потери: 0.2443\n",
      "Эпоха 4/10\n",
      "  Потери: 0.0868\n",
      "Эпоха 5/10\n",
      "  Потери: 0.0420\n",
      "Эпоха 6/10\n",
      "  Потери: 0.0399\n",
      "Эпоха 7/10\n",
      "  Потери: 0.0331\n",
      "Эпоха 8/10\n",
      "  Потери: 0.0320\n",
      "Эпоха 9/10\n",
      "  Потери: 0.0348\n",
      "Эпоха 10/10\n",
      "  Потери: 0.0330\n",
      "Обучение завершено. Сохранение модели в: face_recognition_resnet_new1111.pth\n"
     ]
    }
   ],
   "source": [
    "# --- Обучение модели ---\n",
    "for epoch in range(num_epochs):\n",
    "    print(f'Эпоха {epoch+1}/{num_epochs}')\n",
    "    model.train()\n",
    "    running_loss = 0.0\n",
    "    for inputs, labels in dataloader:\n",
    "        inputs = inputs.to(device)\n",
    "        labels = labels.to(device)\n",
    "\n",
    "        optimizer.zero_grad()\n",
    "        outputs = model(inputs)\n",
    "        loss = criterion(outputs, labels)\n",
    "        loss.backward()\n",
    "        optimizer.step()\n",
    "\n",
    "        running_loss += loss.item() * inputs.size(0)\n",
    "\n",
    "    epoch_loss = running_loss / len(image_dataset)\n",
    "    print(f'  Потери: {epoch_loss:.4f}')\n",
    "\n",
    "print(f'Обучение завершено. Сохранение модели в: {model_save_path}')\n",
    "torch.save(model.state_dict(), model_save_path)"
   ]
  },
  {
   "cell_type": "code",
   "execution_count": 21,
   "id": "c05349c8",
   "metadata": {},
   "outputs": [
    {
     "name": "stdout",
     "output_type": "stream",
     "text": [
      "Распознано: Ivan Basalaev (уверенность: 99.17%)\n"
     ]
    }
   ],
   "source": [
    "import torch\n",
    "import torch.nn as nn\n",
    "import torchvision.transforms as transforms\n",
    "import torchvision.models as models\n",
    "from PIL import Image\n",
    "\n",
    "# --- Настройки ---\n",
    "model_path = '../face_recognition_resnet_new1111.pth'\n",
    "labels_path = '../labels_organized.txt'\n",
    "name = 'Ivan Basalaev'\n",
    "test_image_path = f'./label-studio/label-studio-files/cropped_dataset/{name}/{name}_01.jpg' \n",
    "detection_threshold = 0.5  \n",
    "\n",
    "# --- Загрузка меток классов ---\n",
    "with open(labels_path, 'r') as f:\n",
    "    class_names = [line.strip() for line in f.readlines()]\n",
    "num_classes = len(class_names)\n",
    "\n",
    "# --- Загрузка предобученной модели ResNet18 и изменение FC слоя ---\n",
    "model = models.resnet18(pretrained=False)  \n",
    "num_ftrs = model.fc.in_features\n",
    "model.fc = nn.Linear(num_ftrs, num_classes)\n",
    "\n",
    "# Загрузка весов обученной модели\n",
    "model.load_state_dict(torch.load(model_path))\n",
    "model.eval()  \n",
    "\n",
    "device = torch.device(\"cuda\" if torch.cuda.is_available() else \"cpu\")\n",
    "model = model.to(device)\n",
    "\n",
    "# --- Преобразования для тестового изображения (должны совпадать с тренировочными) ---\n",
    "transform = transforms.Compose([\n",
    "    transforms.Resize((224, 224)),\n",
    "    transforms.ToTensor(),\n",
    "    transforms.Normalize(mean=[0.485, 0.456, 0.406], std=[0.229, 0.224, 0.225])\n",
    "])\n",
    "\n",
    "# --- Функция для распознавания лица на изображении ---\n",
    "def recognize_face(image_path):\n",
    "    try:\n",
    "        img = Image.open(image_path).convert('RGB')\n",
    "        img_tensor = transform(img).unsqueeze(0).to(device)  \n",
    "\n",
    "        with torch.no_grad():\n",
    "            output = model(img_tensor)\n",
    "            probabilities = torch.softmax(output, dim=1)\n",
    "            _, predicted_idx = torch.max(probabilities, 1)\n",
    "            predicted_label = class_names[predicted_idx[0]]\n",
    "            confidence = probabilities[0, predicted_idx[0]].item() * 100\n",
    "\n",
    "        return predicted_label, confidence\n",
    "    except FileNotFoundError:\n",
    "        return \"Ошибка: изображение не найдено\", 0\n",
    "    except Exception as e:\n",
    "        return f\"Произошла ошибка: {e}\", 0\n",
    "\n",
    "# --- Распознавание лица (без детекции YOLOv5) ---\n",
    "predicted_name, confidence = recognize_face(test_image_path)\n",
    "print(f\"Распознано: {predicted_name} (уверенность: {confidence:.2f}%)\")\n",
    "\n",
    "# --- Распознавание лица с предварительной детекцией YOLOv5  ---\n",
    "def detect_faces_yolo(image_path, model_yolo, conf_thres=0.5):\n",
    "    img = Image.open(image_path).convert('RGB')\n",
    "    results = model_yolo(img)\n",
    "    faces = results.xyxy[0][:, :4] \n",
    "    confidences = results.xyxy[0][:, 4]\n",
    "    face_coords = [(int(x1), int(y1), int(x2), int(y2)) for *xyxy, conf in zip(*faces.T, confidences) if conf >= conf_thres]\n",
    "    return face_coords\n",
    "\n",
    "# для теста на нескольких лицах\n",
    "use_yolo_detection = False  \n",
    "\n",
    "if use_yolo_detection:\n",
    "    yolo_model_path = '/Users/dariamotronenko/Desktop/Android/yolov5/runs/train/exp/weights/best.pt' \n",
    "    model_yolo = torch.hub.load('ultralytics/yolov5', 'custom', path=yolo_model_path)\n",
    "    model_yolo.eval()\n",
    "\n",
    "    test_image_with_faces = 'path/to/your/image_with_multiple_faces.jpg' \n",
    "    detected_faces = detect_faces_yolo(test_image_with_faces, model_yolo, conf_thres=detection_threshold)\n",
    "\n",
    "    for i, (x1, y1, x2, y2) in enumerate(detected_faces):\n",
    "        face_img = Image.open(test_image_with_faces).convert('RGB').crop((x1, y1, x2, y2))\n",
    "        face_tensor = transform(face_img).unsqueeze(0).to(device)\n",
    "        with torch.no_grad():\n",
    "            output = model(face_tensor)\n",
    "            probabilities = torch.softmax(output, dim=1)\n",
    "            _, predicted_idx = torch.max(probabilities, 1)\n",
    "            predicted_label = class_names[predicted_idx[0]]\n",
    "            confidence = probabilities[0, predicted_idx[0]].item() * 100\n",
    "            print(f\"Обнаружено лицо {i+1}: Распознано как {predicted_label} (уверенность: {confidence:.2f}%)\")"
   ]
  },
  {
   "cell_type": "code",
   "execution_count": 1,
   "id": "66d1174d-6aa6-4ca5-bdf0-cb7720e6ecf8",
   "metadata": {},
   "outputs": [
    {
     "name": "stderr",
     "output_type": "stream",
     "text": [
      "/home/basalegend/PycharmProjects/Android/.venv/lib/python3.12/site-packages/torch/cuda/__init__.py:129: UserWarning: CUDA initialization: CUDA unknown error - this may be due to an incorrectly set up environment, e.g. changing env variable CUDA_VISIBLE_DEVICES after program start. Setting the available devices to be zero. (Triggered internally at /pytorch/c10/cuda/CUDAFunctions.cpp:109.)\n",
      "  return torch._C._cuda_getDeviceCount() > 0\n"
     ]
    },
    {
     "name": "stdout",
     "output_type": "stream",
     "text": [
      "\n",
      "Начинаем обучение на 42 классах...\n",
      "\n",
      "\n",
      "Epoch 1/50\n"
     ]
    },
    {
     "name": "stderr",
     "output_type": "stream",
     "text": [
      "Training: 100%|███████████████████████████████████████████████████████████████████████████████████████████████████████████████████████████████████████████████| 45/45 [00:06<00:00,  6.67it/s]\n"
     ]
    },
    {
     "name": "stdout",
     "output_type": "stream",
     "text": [
      "Train Loss: 188.8110, Accuracy: 3.06%\n",
      "Test Accuracy: 5.56%\n",
      "\n",
      "Epoch 2/50\n"
     ]
    },
    {
     "name": "stderr",
     "output_type": "stream",
     "text": [
      "Training: 100%|███████████████████████████████████████████████████████████████████████████████████████████████████████████████████████████████████████████████| 45/45 [00:07<00:00,  6.42it/s]\n"
     ]
    },
    {
     "name": "stdout",
     "output_type": "stream",
     "text": [
      "Train Loss: 159.0289, Accuracy: 8.91%\n",
      "Test Accuracy: 15.56%\n",
      "\n",
      "Epoch 3/50\n"
     ]
    },
    {
     "name": "stderr",
     "output_type": "stream",
     "text": [
      "Training: 100%|███████████████████████████████████████████████████████████████████████████████████████████████████████████████████████████████████████████████| 45/45 [00:06<00:00,  6.52it/s]\n"
     ]
    },
    {
     "name": "stdout",
     "output_type": "stream",
     "text": [
      "Train Loss: 143.7107, Accuracy: 18.66%\n",
      "Test Accuracy: 26.67%\n",
      "\n",
      "Epoch 4/50\n"
     ]
    },
    {
     "name": "stderr",
     "output_type": "stream",
     "text": [
      "Training: 100%|███████████████████████████████████████████████████████████████████████████████████████████████████████████████████████████████████████████████| 45/45 [00:07<00:00,  6.43it/s]\n"
     ]
    },
    {
     "name": "stdout",
     "output_type": "stream",
     "text": [
      "Train Loss: 128.3496, Accuracy: 31.48%\n",
      "Test Accuracy: 26.67%\n",
      "\n",
      "Epoch 5/50\n"
     ]
    },
    {
     "name": "stderr",
     "output_type": "stream",
     "text": [
      "Training: 100%|███████████████████████████████████████████████████████████████████████████████████████████████████████████████████████████████████████████████| 45/45 [00:07<00:00,  6.40it/s]\n"
     ]
    },
    {
     "name": "stdout",
     "output_type": "stream",
     "text": [
      "Train Loss: 113.3459, Accuracy: 42.06%\n",
      "Test Accuracy: 34.44%\n",
      "\n",
      "Epoch 6/50\n"
     ]
    },
    {
     "name": "stderr",
     "output_type": "stream",
     "text": [
      "Training: 100%|███████████████████████████████████████████████████████████████████████████████████████████████████████████████████████████████████████████████| 45/45 [00:06<00:00,  6.59it/s]\n"
     ]
    },
    {
     "name": "stdout",
     "output_type": "stream",
     "text": [
      "Train Loss: 104.6426, Accuracy: 45.68%\n",
      "Test Accuracy: 37.78%\n",
      "\n",
      "Epoch 7/50\n"
     ]
    },
    {
     "name": "stderr",
     "output_type": "stream",
     "text": [
      "Training: 100%|███████████████████████████████████████████████████████████████████████████████████████████████████████████████████████████████████████████████| 45/45 [00:06<00:00,  6.65it/s]\n"
     ]
    },
    {
     "name": "stdout",
     "output_type": "stream",
     "text": [
      "Train Loss: 98.3825, Accuracy: 51.25%\n",
      "Test Accuracy: 34.44%\n",
      "\n",
      "Epoch 8/50\n"
     ]
    },
    {
     "name": "stderr",
     "output_type": "stream",
     "text": [
      "Training: 100%|███████████████████████████████████████████████████████████████████████████████████████████████████████████████████████████████████████████████| 45/45 [00:06<00:00,  6.69it/s]\n"
     ]
    },
    {
     "name": "stdout",
     "output_type": "stream",
     "text": [
      "Train Loss: 91.6063, Accuracy: 54.87%\n",
      "Test Accuracy: 45.56%\n",
      "\n",
      "Epoch 9/50\n"
     ]
    },
    {
     "name": "stderr",
     "output_type": "stream",
     "text": [
      "Training: 100%|███████████████████████████████████████████████████████████████████████████████████████████████████████████████████████████████████████████████| 45/45 [00:06<00:00,  6.66it/s]\n"
     ]
    },
    {
     "name": "stdout",
     "output_type": "stream",
     "text": [
      "Train Loss: 83.4961, Accuracy: 57.66%\n",
      "Test Accuracy: 44.44%\n",
      "\n",
      "Epoch 10/50\n"
     ]
    },
    {
     "name": "stderr",
     "output_type": "stream",
     "text": [
      "Training: 100%|███████████████████████████████████████████████████████████████████████████████████████████████████████████████████████████████████████████████| 45/45 [00:07<00:00,  6.30it/s]\n"
     ]
    },
    {
     "name": "stdout",
     "output_type": "stream",
     "text": [
      "Train Loss: 79.0881, Accuracy: 62.67%\n",
      "Test Accuracy: 48.89%\n",
      "\n",
      "Epoch 11/50\n"
     ]
    },
    {
     "name": "stderr",
     "output_type": "stream",
     "text": [
      "Training: 100%|███████████████████████████████████████████████████████████████████████████████████████████████████████████████████████████████████████████████| 45/45 [00:06<00:00,  6.49it/s]\n"
     ]
    },
    {
     "name": "stdout",
     "output_type": "stream",
     "text": [
      "Train Loss: 73.7068, Accuracy: 64.35%\n",
      "Test Accuracy: 55.56%\n",
      "\n",
      "Epoch 12/50\n"
     ]
    },
    {
     "name": "stderr",
     "output_type": "stream",
     "text": [
      "Training: 100%|███████████████████████████████████████████████████████████████████████████████████████████████████████████████████████████████████████████████| 45/45 [00:07<00:00,  6.34it/s]\n"
     ]
    },
    {
     "name": "stdout",
     "output_type": "stream",
     "text": [
      "Train Loss: 67.2082, Accuracy: 69.08%\n",
      "Test Accuracy: 55.56%\n",
      "\n",
      "Epoch 13/50\n"
     ]
    },
    {
     "name": "stderr",
     "output_type": "stream",
     "text": [
      "Training: 100%|███████████████████████████████████████████████████████████████████████████████████████████████████████████████████████████████████████████████| 45/45 [00:07<00:00,  6.37it/s]\n"
     ]
    },
    {
     "name": "stdout",
     "output_type": "stream",
     "text": [
      "Train Loss: 67.2787, Accuracy: 69.36%\n",
      "Test Accuracy: 53.33%\n",
      "\n",
      "Epoch 14/50\n"
     ]
    },
    {
     "name": "stderr",
     "output_type": "stream",
     "text": [
      "Training: 100%|███████████████████████████████████████████████████████████████████████████████████████████████████████████████████████████████████████████████| 45/45 [00:06<00:00,  6.62it/s]\n"
     ]
    },
    {
     "name": "stdout",
     "output_type": "stream",
     "text": [
      "Train Loss: 61.0736, Accuracy: 73.26%\n",
      "Test Accuracy: 60.00%\n",
      "\n",
      "Epoch 15/50\n"
     ]
    },
    {
     "name": "stderr",
     "output_type": "stream",
     "text": [
      "Training: 100%|███████████████████████████████████████████████████████████████████████████████████████████████████████████████████████████████████████████████| 45/45 [00:07<00:00,  6.38it/s]\n"
     ]
    },
    {
     "name": "stdout",
     "output_type": "stream",
     "text": [
      "Train Loss: 55.4668, Accuracy: 77.44%\n",
      "Test Accuracy: 56.67%\n",
      "\n",
      "Epoch 16/50\n"
     ]
    },
    {
     "name": "stderr",
     "output_type": "stream",
     "text": [
      "Training: 100%|███████████████████████████████████████████████████████████████████████████████████████████████████████████████████████████████████████████████| 45/45 [00:07<00:00,  6.10it/s]\n"
     ]
    },
    {
     "name": "stdout",
     "output_type": "stream",
     "text": [
      "Train Loss: 53.0642, Accuracy: 77.16%\n",
      "Test Accuracy: 58.89%\n",
      "\n",
      "Epoch 17/50\n"
     ]
    },
    {
     "name": "stderr",
     "output_type": "stream",
     "text": [
      "Training: 100%|███████████████████████████████████████████████████████████████████████████████████████████████████████████████████████████████████████████████| 45/45 [00:06<00:00,  6.59it/s]\n"
     ]
    },
    {
     "name": "stdout",
     "output_type": "stream",
     "text": [
      "Train Loss: 48.4021, Accuracy: 80.22%\n",
      "Test Accuracy: 61.11%\n",
      "\n",
      "Epoch 18/50\n"
     ]
    },
    {
     "name": "stderr",
     "output_type": "stream",
     "text": [
      "Training: 100%|███████████████████████████████████████████████████████████████████████████████████████████████████████████████████████████████████████████████| 45/45 [00:06<00:00,  6.66it/s]\n"
     ]
    },
    {
     "name": "stdout",
     "output_type": "stream",
     "text": [
      "Train Loss: 45.1053, Accuracy: 81.89%\n",
      "Test Accuracy: 57.78%\n",
      "\n",
      "Epoch 19/50\n"
     ]
    },
    {
     "name": "stderr",
     "output_type": "stream",
     "text": [
      "Training: 100%|███████████████████████████████████████████████████████████████████████████████████████████████████████████████████████████████████████████████| 45/45 [00:06<00:00,  6.61it/s]\n"
     ]
    },
    {
     "name": "stdout",
     "output_type": "stream",
     "text": [
      "Train Loss: 44.9638, Accuracy: 80.78%\n",
      "Test Accuracy: 61.11%\n",
      "\n",
      "Epoch 20/50\n"
     ]
    },
    {
     "name": "stderr",
     "output_type": "stream",
     "text": [
      "Training: 100%|███████████████████████████████████████████████████████████████████████████████████████████████████████████████████████████████████████████████| 45/45 [00:07<00:00,  6.35it/s]\n"
     ]
    },
    {
     "name": "stdout",
     "output_type": "stream",
     "text": [
      "Train Loss: 46.1933, Accuracy: 79.11%\n",
      "Test Accuracy: 58.89%\n",
      "\n",
      "Epoch 21/50\n"
     ]
    },
    {
     "name": "stderr",
     "output_type": "stream",
     "text": [
      "Training: 100%|███████████████████████████████████████████████████████████████████████████████████████████████████████████████████████████████████████████████| 45/45 [00:07<00:00,  6.17it/s]\n"
     ]
    },
    {
     "name": "stdout",
     "output_type": "stream",
     "text": [
      "Train Loss: 40.8211, Accuracy: 84.40%\n",
      "Test Accuracy: 63.33%\n",
      "\n",
      "Epoch 22/50\n"
     ]
    },
    {
     "name": "stderr",
     "output_type": "stream",
     "text": [
      "Training: 100%|███████████████████████████████████████████████████████████████████████████████████████████████████████████████████████████████████████████████| 45/45 [00:07<00:00,  6.40it/s]\n"
     ]
    },
    {
     "name": "stdout",
     "output_type": "stream",
     "text": [
      "Train Loss: 37.6803, Accuracy: 86.35%\n",
      "Test Accuracy: 55.56%\n",
      "\n",
      "Epoch 23/50\n"
     ]
    },
    {
     "name": "stderr",
     "output_type": "stream",
     "text": [
      "Training: 100%|███████████████████████████████████████████████████████████████████████████████████████████████████████████████████████████████████████████████| 45/45 [00:07<00:00,  6.32it/s]\n"
     ]
    },
    {
     "name": "stdout",
     "output_type": "stream",
     "text": [
      "Train Loss: 36.2826, Accuracy: 85.24%\n",
      "Test Accuracy: 61.11%\n",
      "\n",
      "Epoch 24/50\n"
     ]
    },
    {
     "name": "stderr",
     "output_type": "stream",
     "text": [
      "Training: 100%|███████████████████████████████████████████████████████████████████████████████████████████████████████████████████████████████████████████████| 45/45 [00:07<00:00,  6.20it/s]\n"
     ]
    },
    {
     "name": "stdout",
     "output_type": "stream",
     "text": [
      "Train Loss: 37.4014, Accuracy: 86.07%\n",
      "Test Accuracy: 57.78%\n",
      "\n",
      "Epoch 25/50\n"
     ]
    },
    {
     "name": "stderr",
     "output_type": "stream",
     "text": [
      "Training: 100%|███████████████████████████████████████████████████████████████████████████████████████████████████████████████████████████████████████████████| 45/45 [00:08<00:00,  5.49it/s]\n"
     ]
    },
    {
     "name": "stdout",
     "output_type": "stream",
     "text": [
      "Train Loss: 38.6056, Accuracy: 81.89%\n",
      "Test Accuracy: 58.89%\n",
      "\n",
      "Epoch 26/50\n"
     ]
    },
    {
     "name": "stderr",
     "output_type": "stream",
     "text": [
      "Training: 100%|███████████████████████████████████████████████████████████████████████████████████████████████████████████████████████████████████████████████| 45/45 [00:06<00:00,  6.57it/s]\n"
     ]
    },
    {
     "name": "stdout",
     "output_type": "stream",
     "text": [
      "Train Loss: 33.9306, Accuracy: 87.47%\n",
      "Test Accuracy: 50.00%\n",
      "\n",
      "Epoch 27/50\n"
     ]
    },
    {
     "name": "stderr",
     "output_type": "stream",
     "text": [
      "Training: 100%|███████████████████████████████████████████████████████████████████████████████████████████████████████████████████████████████████████████████| 45/45 [00:07<00:00,  6.29it/s]\n"
     ]
    },
    {
     "name": "stdout",
     "output_type": "stream",
     "text": [
      "Train Loss: 33.5289, Accuracy: 86.35%\n",
      "Test Accuracy: 58.89%\n",
      "\n",
      "Epoch 28/50\n"
     ]
    },
    {
     "name": "stderr",
     "output_type": "stream",
     "text": [
      "Training: 100%|███████████████████████████████████████████████████████████████████████████████████████████████████████████████████████████████████████████████| 45/45 [00:07<00:00,  6.36it/s]\n"
     ]
    },
    {
     "name": "stdout",
     "output_type": "stream",
     "text": [
      "Train Loss: 32.4627, Accuracy: 87.19%\n",
      "Test Accuracy: 63.33%\n",
      "\n",
      "Epoch 29/50\n"
     ]
    },
    {
     "name": "stderr",
     "output_type": "stream",
     "text": [
      "Training: 100%|███████████████████████████████████████████████████████████████████████████████████████████████████████████████████████████████████████████████| 45/45 [00:06<00:00,  6.63it/s]\n"
     ]
    },
    {
     "name": "stdout",
     "output_type": "stream",
     "text": [
      "Train Loss: 30.3436, Accuracy: 89.69%\n",
      "Test Accuracy: 64.44%\n",
      "\n",
      "Epoch 30/50\n"
     ]
    },
    {
     "name": "stderr",
     "output_type": "stream",
     "text": [
      "Training: 100%|███████████████████████████████████████████████████████████████████████████████████████████████████████████████████████████████████████████████| 45/45 [00:06<00:00,  6.65it/s]\n"
     ]
    },
    {
     "name": "stdout",
     "output_type": "stream",
     "text": [
      "Train Loss: 30.4935, Accuracy: 88.58%\n",
      "Test Accuracy: 65.56%\n",
      "\n",
      "Epoch 31/50\n"
     ]
    },
    {
     "name": "stderr",
     "output_type": "stream",
     "text": [
      "Training: 100%|███████████████████████████████████████████████████████████████████████████████████████████████████████████████████████████████████████████████| 45/45 [00:06<00:00,  6.63it/s]\n"
     ]
    },
    {
     "name": "stdout",
     "output_type": "stream",
     "text": [
      "Train Loss: 28.0743, Accuracy: 89.97%\n",
      "Test Accuracy: 64.44%\n",
      "\n",
      "Epoch 32/50\n"
     ]
    },
    {
     "name": "stderr",
     "output_type": "stream",
     "text": [
      "Training: 100%|███████████████████████████████████████████████████████████████████████████████████████████████████████████████████████████████████████████████| 45/45 [00:06<00:00,  6.62it/s]\n"
     ]
    },
    {
     "name": "stdout",
     "output_type": "stream",
     "text": [
      "Train Loss: 28.3345, Accuracy: 89.97%\n",
      "Test Accuracy: 64.44%\n",
      "\n",
      "Epoch 33/50\n"
     ]
    },
    {
     "name": "stderr",
     "output_type": "stream",
     "text": [
      "Training: 100%|███████████████████████████████████████████████████████████████████████████████████████████████████████████████████████████████████████████████| 45/45 [00:06<00:00,  6.62it/s]\n"
     ]
    },
    {
     "name": "stdout",
     "output_type": "stream",
     "text": [
      "Train Loss: 26.4309, Accuracy: 90.25%\n",
      "Test Accuracy: 62.22%\n",
      "\n",
      "Epoch 34/50\n"
     ]
    },
    {
     "name": "stderr",
     "output_type": "stream",
     "text": [
      "Training: 100%|███████████████████████████████████████████████████████████████████████████████████████████████████████████████████████████████████████████████| 45/45 [00:08<00:00,  5.25it/s]\n"
     ]
    },
    {
     "name": "stdout",
     "output_type": "stream",
     "text": [
      "Train Loss: 26.5080, Accuracy: 88.30%\n",
      "Test Accuracy: 63.33%\n",
      "\n",
      "Epoch 35/50\n"
     ]
    },
    {
     "name": "stderr",
     "output_type": "stream",
     "text": [
      "Training: 100%|███████████████████████████████████████████████████████████████████████████████████████████████████████████████████████████████████████████████| 45/45 [00:08<00:00,  5.26it/s]\n"
     ]
    },
    {
     "name": "stdout",
     "output_type": "stream",
     "text": [
      "Train Loss: 25.5945, Accuracy: 90.81%\n",
      "Test Accuracy: 58.89%\n",
      "\n",
      "Epoch 36/50\n"
     ]
    },
    {
     "name": "stderr",
     "output_type": "stream",
     "text": [
      "Training: 100%|███████████████████████████████████████████████████████████████████████████████████████████████████████████████████████████████████████████████| 45/45 [00:07<00:00,  6.23it/s]\n"
     ]
    },
    {
     "name": "stdout",
     "output_type": "stream",
     "text": [
      "Train Loss: 25.2507, Accuracy: 89.14%\n",
      "Test Accuracy: 63.33%\n",
      "\n",
      "Epoch 37/50\n"
     ]
    },
    {
     "name": "stderr",
     "output_type": "stream",
     "text": [
      "Training: 100%|███████████████████████████████████████████████████████████████████████████████████████████████████████████████████████████████████████████████| 45/45 [00:06<00:00,  6.51it/s]\n"
     ]
    },
    {
     "name": "stdout",
     "output_type": "stream",
     "text": [
      "Train Loss: 24.9463, Accuracy: 89.97%\n",
      "Test Accuracy: 66.67%\n",
      "\n",
      "Epoch 38/50\n"
     ]
    },
    {
     "name": "stderr",
     "output_type": "stream",
     "text": [
      "Training: 100%|███████████████████████████████████████████████████████████████████████████████████████████████████████████████████████████████████████████████| 45/45 [00:07<00:00,  6.07it/s]\n"
     ]
    },
    {
     "name": "stdout",
     "output_type": "stream",
     "text": [
      "Train Loss: 24.2273, Accuracy: 90.53%\n",
      "Test Accuracy: 67.78%\n",
      "\n",
      "Epoch 39/50\n"
     ]
    },
    {
     "name": "stderr",
     "output_type": "stream",
     "text": [
      "Training: 100%|███████████████████████████████████████████████████████████████████████████████████████████████████████████████████████████████████████████████| 45/45 [00:07<00:00,  6.26it/s]\n"
     ]
    },
    {
     "name": "stdout",
     "output_type": "stream",
     "text": [
      "Train Loss: 21.5740, Accuracy: 93.87%\n",
      "Test Accuracy: 68.89%\n",
      "\n",
      "Epoch 40/50\n"
     ]
    },
    {
     "name": "stderr",
     "output_type": "stream",
     "text": [
      "Training: 100%|███████████████████████████████████████████████████████████████████████████████████████████████████████████████████████████████████████████████| 45/45 [00:07<00:00,  6.34it/s]\n"
     ]
    },
    {
     "name": "stdout",
     "output_type": "stream",
     "text": [
      "Train Loss: 23.6479, Accuracy: 87.74%\n",
      "Test Accuracy: 67.78%\n",
      "\n",
      "Epoch 41/50\n"
     ]
    },
    {
     "name": "stderr",
     "output_type": "stream",
     "text": [
      "Training: 100%|███████████████████████████████████████████████████████████████████████████████████████████████████████████████████████████████████████████████| 45/45 [00:07<00:00,  6.24it/s]\n"
     ]
    },
    {
     "name": "stdout",
     "output_type": "stream",
     "text": [
      "Train Loss: 22.6548, Accuracy: 89.97%\n",
      "Test Accuracy: 64.44%\n",
      "\n",
      "Epoch 42/50\n"
     ]
    },
    {
     "name": "stderr",
     "output_type": "stream",
     "text": [
      "Training: 100%|███████████████████████████████████████████████████████████████████████████████████████████████████████████████████████████████████████████████| 45/45 [00:07<00:00,  5.95it/s]\n"
     ]
    },
    {
     "name": "stdout",
     "output_type": "stream",
     "text": [
      "Train Loss: 23.6530, Accuracy: 89.69%\n",
      "Test Accuracy: 61.11%\n",
      "\n",
      "Epoch 43/50\n"
     ]
    },
    {
     "name": "stderr",
     "output_type": "stream",
     "text": [
      "Training: 100%|███████████████████████████████████████████████████████████████████████████████████████████████████████████████████████████████████████████████| 45/45 [00:07<00:00,  6.40it/s]\n"
     ]
    },
    {
     "name": "stdout",
     "output_type": "stream",
     "text": [
      "Train Loss: 23.1013, Accuracy: 92.20%\n",
      "Test Accuracy: 64.44%\n",
      "\n",
      "Epoch 44/50\n"
     ]
    },
    {
     "name": "stderr",
     "output_type": "stream",
     "text": [
      "Training: 100%|███████████████████████████████████████████████████████████████████████████████████████████████████████████████████████████████████████████████| 45/45 [00:06<00:00,  6.50it/s]\n"
     ]
    },
    {
     "name": "stdout",
     "output_type": "stream",
     "text": [
      "Train Loss: 20.0367, Accuracy: 92.48%\n",
      "Test Accuracy: 64.44%\n",
      "\n",
      "Epoch 45/50\n"
     ]
    },
    {
     "name": "stderr",
     "output_type": "stream",
     "text": [
      "Training: 100%|███████████████████████████████████████████████████████████████████████████████████████████████████████████████████████████████████████████████| 45/45 [00:06<00:00,  6.44it/s]\n"
     ]
    },
    {
     "name": "stdout",
     "output_type": "stream",
     "text": [
      "Train Loss: 19.8972, Accuracy: 92.48%\n",
      "Test Accuracy: 60.00%\n",
      "\n",
      "Epoch 46/50\n"
     ]
    },
    {
     "name": "stderr",
     "output_type": "stream",
     "text": [
      "Training: 100%|███████████████████████████████████████████████████████████████████████████████████████████████████████████████████████████████████████████████| 45/45 [00:06<00:00,  6.55it/s]\n"
     ]
    },
    {
     "name": "stdout",
     "output_type": "stream",
     "text": [
      "Train Loss: 20.2678, Accuracy: 90.25%\n",
      "Test Accuracy: 62.22%\n",
      "\n",
      "Epoch 47/50\n"
     ]
    },
    {
     "name": "stderr",
     "output_type": "stream",
     "text": [
      "Training: 100%|███████████████████████████████████████████████████████████████████████████████████████████████████████████████████████████████████████████████| 45/45 [00:07<00:00,  6.07it/s]\n"
     ]
    },
    {
     "name": "stdout",
     "output_type": "stream",
     "text": [
      "Train Loss: 19.9773, Accuracy: 92.20%\n",
      "Test Accuracy: 63.33%\n",
      "\n",
      "Epoch 48/50\n"
     ]
    },
    {
     "name": "stderr",
     "output_type": "stream",
     "text": [
      "Training: 100%|███████████████████████████████████████████████████████████████████████████████████████████████████████████████████████████████████████████████| 45/45 [00:07<00:00,  5.84it/s]\n"
     ]
    },
    {
     "name": "stdout",
     "output_type": "stream",
     "text": [
      "Train Loss: 18.3148, Accuracy: 92.20%\n",
      "Test Accuracy: 65.56%\n",
      "\n",
      "Epoch 49/50\n"
     ]
    },
    {
     "name": "stderr",
     "output_type": "stream",
     "text": [
      "Training: 100%|███████████████████████████████████████████████████████████████████████████████████████████████████████████████████████████████████████████████| 45/45 [00:07<00:00,  6.42it/s]\n"
     ]
    },
    {
     "name": "stdout",
     "output_type": "stream",
     "text": [
      "Train Loss: 20.2704, Accuracy: 92.48%\n",
      "Test Accuracy: 64.44%\n",
      "\n",
      "Epoch 50/50\n"
     ]
    },
    {
     "name": "stderr",
     "output_type": "stream",
     "text": [
      "Training: 100%|███████████████████████████████████████████████████████████████████████████████████████████████████████████████████████████████████████████████| 45/45 [00:07<00:00,  6.25it/s]\n"
     ]
    },
    {
     "name": "stdout",
     "output_type": "stream",
     "text": [
      "Train Loss: 17.6308, Accuracy: 93.31%\n",
      "Test Accuracy: 66.67%\n",
      "\n",
      "Модель сохранена в resnet18_face111.pth\n"
     ]
    }
   ],
   "source": [
    "import os\n",
    "import cv2\n",
    "import torch\n",
    "import torch.nn as nn\n",
    "from torch.utils.data import Dataset, DataLoader\n",
    "from torchvision import transforms, models, datasets\n",
    "from sklearn.model_selection import train_test_split\n",
    "from tqdm import tqdm\n",
    "import shutil\n",
    "import numpy as np\n",
    "\n",
    "# Пути\n",
    "DATASET_DIR = \"../label-studio/label-studio-files/cropped_dataset/\"\n",
    "MODEL_SAVE_PATH = \"face_recognition_resnet.pth\"\n",
    "CLASS_NAMES_PATH = \"../class_names.txt\"\n",
    "BATCH_SIZE = 8\n",
    "EPOCHS = 50\n",
    "LR = 0.001\n",
    "\n",
    "# Подготовка данных\n",
    "train_transform = transforms.Compose([\n",
    "    transforms.ToPILImage(),\n",
    "    transforms.Resize((224, 224)),\n",
    "    transforms.RandomHorizontalFlip(p=0.5),\n",
    "    transforms.RandomRotation(10),\n",
    "    transforms.ColorJitter(brightness=0.2, contrast=0.2, saturation=0.2, hue=0.05),\n",
    "    transforms.ToTensor(),\n",
    "    transforms.Normalize(mean=[0.485, 0.456, 0.406], std=[0.229, 0.224, 0.225]),\n",
    "])\n",
    "\n",
    "test_transform = transforms.Compose([\n",
    "    transforms.ToPILImage(),\n",
    "    transforms.Resize((224, 224)),\n",
    "    transforms.ToTensor(),\n",
    "    transforms.Normalize(mean=[0.485, 0.456, 0.406], std=[0.229, 0.224, 0.225]),\n",
    "])\n",
    "\n",
    "class FaceDataset(Dataset):\n",
    "    def __init__(self, image_paths, labels, transform=None):\n",
    "        self.image_paths = image_paths\n",
    "        self.labels = labels\n",
    "        self.transform = transform\n",
    "\n",
    "    def __len__(self):\n",
    "        return len(self.image_paths)\n",
    "\n",
    "    def __getitem__(self, idx):\n",
    "        image_path = self.image_paths[idx]\n",
    "        label = self.labels[idx]\n",
    "        image = cv2.imread(image_path)\n",
    "        image = cv2.cvtColor(image, cv2.COLOR_BGR2RGB)\n",
    "\n",
    "        if self.transform:\n",
    "            image = self.transform(image)\n",
    "\n",
    "        return image, label\n",
    "\n",
    "def create_dataloaders():\n",
    "    image_paths = []\n",
    "    labels = []\n",
    "    class_names = []\n",
    "\n",
    "    for root, dirs, files in os.walk(DATASET_DIR):\n",
    "        for dir_name in dirs:\n",
    "            person_dir = os.path.join(root, dir_name)\n",
    "            img_files = [os.path.join(person_dir, f) for f in os.listdir(person_dir) if f.endswith(\".jpg\")]\n",
    "            image_paths.extend(img_files)\n",
    "            labels.extend([len(class_names)] * len(img_files))\n",
    "            class_names.append(dir_name)\n",
    "\n",
    "    # Сохраняем имена классов\n",
    "    with open(CLASS_NAMES_PATH, 'w') as f:\n",
    "        f.write('\\n'.join(class_names))\n",
    "\n",
    "    # Разделение на train/test\n",
    "    train_paths, test_paths, train_labels, test_labels = train_test_split(\n",
    "        image_paths, labels, test_size=0.2, random_state=42, stratify=labels\n",
    "    )\n",
    "\n",
    "    train_dataset = FaceDataset(train_paths, train_labels, transform=train_transform)\n",
    "    test_dataset = FaceDataset(test_paths, test_labels, transform=test_transform)\n",
    "\n",
    "    train_loader = DataLoader(train_dataset, batch_size=BATCH_SIZE, shuffle=True)\n",
    "    test_loader = DataLoader(test_dataset, batch_size=BATCH_SIZE)\n",
    "\n",
    "    return train_loader, test_loader, len(class_names)\n",
    "\n",
    "# Обучение модели\n",
    "def train_model(model, train_loader, criterion, optimizer, device):\n",
    "    model.train()\n",
    "    running_loss = 0.0\n",
    "    correct = 0\n",
    "    total = 0\n",
    "\n",
    "    for inputs, labels in tqdm(train_loader, desc=\"Training\"):\n",
    "        inputs, labels = inputs.to(device), labels.to(device)\n",
    "\n",
    "        optimizer.zero_grad()\n",
    "        outputs = model(inputs)\n",
    "        loss = criterion(outputs, labels)\n",
    "        loss.backward()\n",
    "        optimizer.step()\n",
    "\n",
    "        running_loss += loss.item()\n",
    "        _, predicted = outputs.max(1)\n",
    "        total += labels.size(0)\n",
    "        correct += predicted.eq(labels).sum().item()\n",
    "\n",
    "    acc = 100. * correct / total\n",
    "    print(f\"Train Loss: {running_loss:.4f}, Accuracy: {acc:.2f}%\")\n",
    "\n",
    "# Тестирование модели\n",
    "def test_model(model, test_loader, criterion, device):\n",
    "    model.eval()\n",
    "    correct = 0\n",
    "    total = 0\n",
    "    with torch.no_grad():\n",
    "        for inputs, labels in test_loader:\n",
    "            inputs, labels = inputs.to(device), labels.to(device)\n",
    "            outputs = model(inputs)\n",
    "            _, predicted = outputs.max(1)\n",
    "            total += labels.size(0)\n",
    "            correct += predicted.eq(labels).sum().item()\n",
    "\n",
    "    acc = 100. * correct / total\n",
    "    print(f\"Test Accuracy: {acc:.2f}%\")\n",
    "\n",
    "\n",
    "train_loader, test_loader, num_classes = create_dataloaders()\n",
    "device = torch.device(\"cuda\" if torch.cuda.is_available() else \"cpu\")\n",
    "\n",
    "# Загрузка предобученной модели ResNet18\n",
    "model = models.resnet18(weights=\"IMAGENET1K_V1\")\n",
    "for param in model.parameters():\n",
    "    param.requires_grad = False  # Замораживаем веса\n",
    "\n",
    "num_ftrs = model.fc.in_features\n",
    "model.fc = nn.Linear(num_ftrs, num_classes)  # Изменяем голову под нашу задачу\n",
    "model = model.to(device)\n",
    "\n",
    "criterion = nn.CrossEntropyLoss()\n",
    "optimizer = torch.optim.Adam(model.fc.parameters(), lr=LR)\n",
    "\n",
    "print(f\"\\nНачинаем обучение на {num_classes} классах...\\n\")\n",
    "\n",
    "for epoch in range(EPOCHS):\n",
    "    print(f\"\\nEpoch {epoch + 1}/{EPOCHS}\")\n",
    "    train_model(model, train_loader, criterion, optimizer, device)\n",
    "    test_model(model, test_loader, criterion, device)\n",
    "\n",
    "# Сохранение модели\n",
    "torch.save(model.state_dict(), MODEL_SAVE_PATH)\n",
    "print(f\"\\nМодель сохранена в {MODEL_SAVE_PATH}\")\n"
   ]
  },
  {
   "cell_type": "code",
   "execution_count": null,
   "id": "6f713559-2236-47c7-8cbc-8b5f3eab183c",
   "metadata": {},
   "outputs": [],
   "source": []
  },
  {
   "cell_type": "code",
   "execution_count": null,
   "id": "b2a1bf53-768d-43ac-b30c-fa5a03fd2358",
   "metadata": {},
   "outputs": [],
   "source": []
  }
 ],
 "metadata": {
  "kernelspec": {
   "display_name": "Python 3 (ipykernel)",
   "language": "python",
   "name": "python3"
  },
  "language_info": {
   "codemirror_mode": {
    "name": "ipython",
    "version": 3
   },
   "file_extension": ".py",
   "mimetype": "text/x-python",
   "name": "python",
   "nbconvert_exporter": "python",
   "pygments_lexer": "ipython3",
   "version": "3.12.3"
  },
  "toc": {
   "base_numbering": 1,
   "nav_menu": {},
   "number_sections": true,
   "sideBar": true,
   "skip_h1_title": false,
   "title_cell": "Table of Contents",
   "title_sidebar": "Contents",
   "toc_cell": false,
   "toc_position": {},
   "toc_section_display": true,
   "toc_window_display": false
  }
 },
 "nbformat": 4,
 "nbformat_minor": 5
}
